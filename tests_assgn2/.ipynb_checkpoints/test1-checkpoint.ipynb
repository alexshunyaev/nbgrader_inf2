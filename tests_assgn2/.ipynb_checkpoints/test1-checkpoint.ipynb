{
 "cells": [
  {
   "cell_type": "markdown",
   "id": "0b75ff0f-f32a-408b-aac2-0ccc26c3acf3",
   "metadata": {
    "nbgrader": {
     "grade": false,
     "grade_id": "cell-d99738f4f6e6a18e",
     "locked": true,
     "schema_version": 3,
     "solution": false,
     "task": false
    }
   },
   "source": [
    "**We're going to help the guards out and compute whether a collection of swallows can carry a collection of coconuts between them. We know that \"a five ounce bird could not carry a one pound coconut,\" so we will assume that a 5.5 ounce bird can carry a one pound coconut. More specifically, we will assume that every 5.5 ounces of bird can carry one pound of coconut.**"
   ]
  },
  {
   "cell_type": "markdown",
   "id": "f7a43eba-7ad0-49d5-b4a6-9d7c41717f74",
   "metadata": {
    "nbgrader": {
     "grade": false,
     "grade_id": "cell-80a01c7adf220097",
     "locked": true,
     "schema_version": 3,
     "solution": false,
     "task": false
    }
   },
   "source": [
    "Prompt the user for the number of ounces of bird \n",
    "by asking: \"How many ounces of birds are carrying the coconuts? \".\n",
    "Prompt the user for the number of pounds of coconut by asking: \n",
    "\"How many pounds of coconuts are there? \".\n",
    "Remember to convert these values to floats! \n",
    "You can assume that the user input is formatted correctly."
   ]
  },
  {
   "cell_type": "code",
   "execution_count": 20,
   "id": "259657e5-0d5c-45fa-b0b2-2a506534c11b",
   "metadata": {
    "editable": true,
    "nbgrader": {
     "grade": false,
     "grade_id": "cell-cf9726a45fb25ba2",
     "locked": false,
     "schema_version": 3,
     "solution": true,
     "task": false
    },
    "slideshow": {
     "slide_type": ""
    },
    "tags": []
   },
   "outputs": [
    {
     "name": "stdin",
     "output_type": "stream",
     "text": [
      "How many ounces of birds are carrying the coconuts? 6\n",
      "How many pounds of coconuts are there? 4\n"
     ]
    },
    {
     "name": "stdout",
     "output_type": "stream",
     "text": [
      "No. Carrying the coconuts is impossible.\n"
     ]
    }
   ],
   "source": [
    "# YOUR CODE HERE\n",
    "# def carrying_coconuts(ounces_of_birds, pounds_of_coconuts):\n",
    "\n",
    "### BEGIN SOLUTION\n",
    "\n",
    "def carrying_coconuts():\n",
    "    ounces_of_birds = float(input('How many ounces of birds are carrying the coconuts?'))\n",
    "    pounds_of_coconuts = float(input('How many pounds of coconuts are there?'))\n",
    "\n",
    "    if ounces_of_birds / pounds_of_coconuts >= 5.5:\n",
    "         print(\"Yes! Carrying the coconuts is possible.\")\n",
    "    else: \n",
    "        print(\"No. Carrying the coconuts is impossible.\")\n",
    "    \n",
    "### END SOLUTION\n",
    "\n",
    "carrying_coconuts()"
   ]
  },
  {
   "cell_type": "markdown",
   "id": "1d97c93f-1faa-4f97-ad58-2609d01f75e5",
   "metadata": {
    "nbgrader": {
     "grade": false,
     "grade_id": "cell-56262726fdc23f8a",
     "locked": true,
     "schema_version": 3,
     "solution": false,
     "task": false
    }
   },
   "source": [
    "# **Sample run**\n",
    "\n",
    "How many ounces of birds are carrying the coconuts? 5\n",
    "How many pounds of coconuts are there? 1\n",
    "No. Carrying the coconuts is impossible.\n",
    "\n",
    "\n",
    "How many ounces of birds are carrying the coconuts? 6.2\r\n",
    "How many pounds of coconuts are there? 1.1\r\n",
    "Yes! Carrying the coconuts is possie\n",
    "\n",
    "py\r\n",
    "How many ounces of birds are carrying the coconuts? 17\r\n",
    "How many pounds of coconuts are there? 3\r\n",
    "Yes! Carrying the cos is conutpossi\n",
    "ts.py\r\n",
    "How many ounces of birds are carrying the coconuts? 12.5\r\n",
    "How many pounds of coconuts are there? 2.5\r\n",
    "No. Carrying the coconuts is impossible.\n"
   ]
  },
  {
   "cell_type": "code",
   "execution_count": 26,
   "id": "cd7b6d01-8b7d-4660-9f83-5c3c3a21f0a9",
   "metadata": {
    "nbgrader": {
     "grade": true,
     "grade_id": "cell-308136d4df2f8427",
     "locked": true,
     "points": 1,
     "schema_version": 3,
     "solution": false,
     "task": false
    }
   },
   "outputs": [
    {
     "name": "stdout",
     "output_type": "stream",
     "text": [
      "Yes! Carrying the coconuts is possible.\n"
     ]
    },
    {
     "ename": "AssertionError",
     "evalue": "",
     "output_type": "error",
     "traceback": [
      "\u001b[1;31m---------------------------------------------------------------------------\u001b[0m",
      "\u001b[1;31mAssertionError\u001b[0m                            Traceback (most recent call last)",
      "Cell \u001b[1;32mIn[26], line 18\u001b[0m\n\u001b[0;32m     15\u001b[0m     \u001b[38;5;28;01mwith\u001b[39;00m mock\u001b[38;5;241m.\u001b[39mpatch(\u001b[38;5;124m'\u001b[39m\u001b[38;5;124mbuiltins.input\u001b[39m\u001b[38;5;124m'\u001b[39m, side_effect\u001b[38;5;241m=\u001b[39m[\u001b[38;5;124m'\u001b[39m\u001b[38;5;124m1000\u001b[39m\u001b[38;5;124m'\u001b[39m, \u001b[38;5;124m'\u001b[39m\u001b[38;5;124m25\u001b[39m\u001b[38;5;124m'\u001b[39m]):\n\u001b[0;32m     16\u001b[0m         \u001b[38;5;28;01massert\u001b[39;00m carrying_coconuts() \u001b[38;5;241m==\u001b[39m \u001b[38;5;124m'\u001b[39m\u001b[38;5;124mYes! Carrying the coconuts is possible.\u001b[39m\u001b[38;5;124m'\u001b[39m\n\u001b[1;32m---> 18\u001b[0m \u001b[43mtesting_coconuts\u001b[49m\u001b[43m(\u001b[49m\u001b[43m)\u001b[49m\n",
      "Cell \u001b[1;32mIn[26], line 7\u001b[0m, in \u001b[0;36mtesting_coconuts\u001b[1;34m()\u001b[0m\n\u001b[0;32m      5\u001b[0m \u001b[38;5;28;01mdef\u001b[39;00m \u001b[38;5;21mtesting_coconuts\u001b[39m():\n\u001b[0;32m      6\u001b[0m     \u001b[38;5;28;01mwith\u001b[39;00m mock\u001b[38;5;241m.\u001b[39mpatch(\u001b[38;5;124m'\u001b[39m\u001b[38;5;124mbuiltins.input\u001b[39m\u001b[38;5;124m'\u001b[39m, side_effect\u001b[38;5;241m=\u001b[39m[\u001b[38;5;124m'\u001b[39m\u001b[38;5;124m5.5\u001b[39m\u001b[38;5;124m'\u001b[39m, \u001b[38;5;124m'\u001b[39m\u001b[38;5;124m1\u001b[39m\u001b[38;5;124m'\u001b[39m]):\n\u001b[1;32m----> 7\u001b[0m         \u001b[38;5;28;01massert\u001b[39;00m carrying_coconuts() \u001b[38;5;241m==\u001b[39m \u001b[38;5;124m'\u001b[39m\u001b[38;5;124mYes! Carrying the coconuts is possible.\u001b[39m\u001b[38;5;124m'\u001b[39m\n\u001b[0;32m      9\u001b[0m     \u001b[38;5;28;01mwith\u001b[39;00m mock\u001b[38;5;241m.\u001b[39mpatch(\u001b[38;5;124m'\u001b[39m\u001b[38;5;124mbuiltins.input\u001b[39m\u001b[38;5;124m'\u001b[39m, side_effect\u001b[38;5;241m=\u001b[39m[\u001b[38;5;124m'\u001b[39m\u001b[38;5;124m46\u001b[39m\u001b[38;5;124m'\u001b[39m, \u001b[38;5;124m'\u001b[39m\u001b[38;5;124m25\u001b[39m\u001b[38;5;124m'\u001b[39m]):\n\u001b[0;32m     10\u001b[0m         \u001b[38;5;28;01massert\u001b[39;00m carrying_coconuts() \u001b[38;5;241m==\u001b[39m \u001b[38;5;124m'\u001b[39m\u001b[38;5;124mNo. Carrying the coconuts is impossible.\u001b[39m\u001b[38;5;124m'\u001b[39m\n",
      "\u001b[1;31mAssertionError\u001b[0m: "
     ]
    }
   ],
   "source": [
    "### BEGIN HIDDEN TESTS\n",
    "\n",
    "import mock\n",
    "\n",
    "def testing_coconuts():\n",
    "    with mock.patch('builtins.input', side_effect=['5.5', '1']):\n",
    "        assert carrying_coconuts() == 'Yes! Carrying the coconuts is possible.'\n",
    "        \n",
    "    with mock.patch('builtins.input', side_effect=['46', '25']):\n",
    "        assert carrying_coconuts() == 'No. Carrying the coconuts is impossible.'\n",
    "        \n",
    "    with mock.patch('builtins.input', side_effect=['0', '1']):\n",
    "        assert carrying_coconuts() == 'No. Carrying the coconuts is impossible.'\n",
    "        \n",
    "    with mock.patch('builtins.input', side_effect=['1000', '25']):\n",
    "        assert carrying_coconuts() == 'Yes! Carrying the coconuts is possible.'\n",
    "        \n",
    "testing_coconuts()\n",
    "\n",
    "### END HIDDEN TESTS"
   ]
  },
  {
   "cell_type": "markdown",
   "id": "eddc7f87-8066-4737-a3da-9c772c78560c",
   "metadata": {
    "nbgrader": {
     "grade": false,
     "grade_id": "cell-185be2e2ca444c78",
     "locked": true,
     "schema_version": 3,
     "solution": false,
     "task": false
    }
   },
   "source": [
    "Make a list of cheeses containing \"Muenster\", \"Cheddar\", and \"Red Leicester\"; these are the cheeses you have in your shop.\r\n",
    "\r\n",
    "Begin by printing the string \"Good morning. Welcome to the National Cheese Emporium!\" to the console.\r\n",
    "\r\n",
    "Next, in a loop, we will repeatedly ask the user which cheese they would like to buy. If the user enters the exact name of a cheese that you have, affirm that you have the cheese they asked for in the format \"We have {}, yessir.\". If the user does not enter the exact name of a cheese that you have, say that you don't have that cheese in the form \"I'm afraid we don't have any {}.\" and then reprompt the user to ask for another cheese.\r\n",
    "\r\n",
    "The user is also allowed to enter special questions. If the user enters either of the strings \"You... do have some cheese, don't you?\" or \"Have you in fact got any cheese here at all?\", you must reply by listing the number of cheeses that you have in the format \"We have {} cheese(s)!\", along with the name of each type of cheese you have, one on each\n",
    "\n",
    "**For anything that is not specified in the above specification, your program can behave in anyway you'd like. For example, you can customize the prompts and messages.** line."
   ]
  },
  {
   "cell_type": "code",
   "execution_count": 10,
   "id": "e5b21368-6e00-41ed-b799-a59ade3caeb1",
   "metadata": {
    "nbgrader": {
     "grade": false,
     "grade_id": "cell-274ac8afe3538dae",
     "locked": false,
     "schema_version": 3,
     "solution": true,
     "task": false
    }
   },
   "outputs": [],
   "source": [
    "# YOUR SOLUTION HERE\n",
    "\n",
    "### BEGIN SOLUTION\n",
    "\n",
    "def chees():\n",
    "    \n",
    "    cheeses = [\"Muenster\", \"Cheddar\", \"Red Leicester\"]\n",
    "    print(\"Good morning. Welcome to the National Cheese Emporium!\")\n",
    "\n",
    "    while True:\n",
    "        user_input = input(\"Which cheese would you like to buy? \")\n",
    "\n",
    "        if user_input == \"You... do have some cheese, don't you?\" or user_input == \"Have you in fact got any cheese here at all?\":\n",
    "            print(f'We have {len(cheeses)} cheese(s)!')\n",
    "            for chees in cheeses: \n",
    "                print(chees)\n",
    "            break\n",
    "\n",
    "        elif user_input in cheeses:\n",
    "            print(\"We have {}, yessir.\".format(user_input))\n",
    "            break\n",
    "\n",
    "        else:\n",
    "            print(\"I'm afraid we don't have any {}.\".format(user_input))\n",
    "### END SOLUTION\n"
   ]
  },
  {
   "cell_type": "markdown",
   "id": "e8e7fe79-b67a-4c6d-a853-0a68a2e35da4",
   "metadata": {
    "nbgrader": {
     "grade": false,
     "grade_id": "cell-cbc2bb55cea99a2a",
     "locked": true,
     "schema_version": 3,
     "solution": false,
     "task": false
    }
   },
   "source": [
    "**Sample Run**\n",
    "\n",
    "Good morning. Welcome to the National Cheese Emporium!\n",
    "What would you like? Red Windsor\n",
    "I'm afraid we don't have any Red Windsor.\n",
    "What would you like? Lancashire\n",
    "I'm afraid we don't have any Lancashire.\n",
    "What would you like? cheddar\n",
    "I'm afraid we don't have any cheddar.\n",
    "What would you like? Cheddar\n",
    "We have Cheddar, yessir.\n",
    "\n",
    "Good morning. Welcome to the National Cheese Emporium!\n",
    "What would you like? Red Windsor\n",
    "I'm afraid we don't have any Red Windsor.\n",
    "What would you like? cHeDdAr\n",
    "I'm afraid we don't have any cHeDdAr.\n",
    "What would you like? Have you in fact got any cheese here at all?\n",
    "We have 3 cheese(s)!\n",
    "Muenster\n",
    "Cheddar\n",
    "Red Leicester\n",
    "What would you like? exit\n",
    "I'm afraid we don't have any exit.\n",
    "What would you like? LET ME OUT\n",
    "I'm afraid we don't have any LET ME OUT.\n",
    "What would you like? Cheddar\n",
    "We have Cheddar, yessir."
   ]
  },
  {
   "cell_type": "code",
   "execution_count": 12,
   "id": "293b0c22-7a4a-4722-98af-1019364ac651",
   "metadata": {
    "nbgrader": {
     "grade": true,
     "grade_id": "cell-5057de5b041f6f13",
     "locked": true,
     "points": 0,
     "schema_version": 3,
     "solution": false,
     "task": false
    }
   },
   "outputs": [
    {
     "name": "stdout",
     "output_type": "stream",
     "text": [
      "Good morning. Welcome to the National Cheese Emporium!\n",
      "We have Cheddar, yessir.\n"
     ]
    },
    {
     "ename": "AssertionError",
     "evalue": "",
     "output_type": "error",
     "traceback": [
      "\u001b[1;31m---------------------------------------------------------------------------\u001b[0m",
      "\u001b[1;31mAssertionError\u001b[0m                            Traceback (most recent call last)",
      "Cell \u001b[1;32mIn[12], line 29\u001b[0m\n\u001b[0;32m     26\u001b[0m     \u001b[38;5;28;01mwith\u001b[39;00m mock\u001b[38;5;241m.\u001b[39mpatch(\u001b[38;5;124m'\u001b[39m\u001b[38;5;124mbuiltins.input\u001b[39m\u001b[38;5;124m'\u001b[39m, return_value\u001b[38;5;241m=\u001b[39m\u001b[38;5;124m\"\u001b[39m\u001b[38;5;124mYou... do have some cheese, don\u001b[39m\u001b[38;5;124m'\u001b[39m\u001b[38;5;124mt you?\u001b[39m\u001b[38;5;124m\"\u001b[39m):\n\u001b[0;32m     27\u001b[0m         \u001b[38;5;28;01massert\u001b[39;00m chees() \u001b[38;5;241m==\u001b[39m \u001b[38;5;124m\"\u001b[39m\u001b[38;5;124mWe have 3 cheese(s)!\u001b[39m\u001b[38;5;130;01m\\n\u001b[39;00m\u001b[38;5;124mMuenster\u001b[39m\u001b[38;5;130;01m\\n\u001b[39;00m\u001b[38;5;124mCheddar\u001b[39m\u001b[38;5;130;01m\\n\u001b[39;00m\u001b[38;5;124mRed Leicester\u001b[39m\u001b[38;5;124m\"\u001b[39m\n\u001b[1;32m---> 29\u001b[0m \u001b[43mtesting_cheese\u001b[49m\u001b[43m(\u001b[49m\u001b[43m)\u001b[49m\n",
      "Cell \u001b[1;32mIn[12], line 8\u001b[0m, in \u001b[0;36mtesting_cheese\u001b[1;34m()\u001b[0m\n\u001b[0;32m      6\u001b[0m \u001b[38;5;28;01mdef\u001b[39;00m \u001b[38;5;21mtesting_cheese\u001b[39m():\n\u001b[0;32m      7\u001b[0m     \u001b[38;5;28;01mwith\u001b[39;00m mock\u001b[38;5;241m.\u001b[39mpatch(\u001b[38;5;124m'\u001b[39m\u001b[38;5;124mbuiltins.input\u001b[39m\u001b[38;5;124m'\u001b[39m, return_value\u001b[38;5;241m=\u001b[39m\u001b[38;5;124m'\u001b[39m\u001b[38;5;124mCheddar\u001b[39m\u001b[38;5;124m'\u001b[39m):\n\u001b[1;32m----> 8\u001b[0m         \u001b[38;5;28;01massert\u001b[39;00m chees() \u001b[38;5;241m==\u001b[39m \u001b[38;5;124m'\u001b[39m\u001b[38;5;124mWe have Cheddar, yessir.\u001b[39m\u001b[38;5;124m'\u001b[39m\n\u001b[0;32m     10\u001b[0m     \u001b[38;5;28;01mwith\u001b[39;00m mock\u001b[38;5;241m.\u001b[39mpatch(\u001b[38;5;124m'\u001b[39m\u001b[38;5;124mbuiltins.input\u001b[39m\u001b[38;5;124m'\u001b[39m, return_value\u001b[38;5;241m=\u001b[39m\u001b[38;5;124m'\u001b[39m\u001b[38;5;124mMuenster\u001b[39m\u001b[38;5;124m'\u001b[39m):\n\u001b[0;32m     11\u001b[0m         \u001b[38;5;28;01massert\u001b[39;00m chees() \u001b[38;5;241m==\u001b[39m \u001b[38;5;124m'\u001b[39m\u001b[38;5;124mWe have Muenster, yessir.\u001b[39m\u001b[38;5;124m'\u001b[39m\n",
      "\u001b[1;31mAssertionError\u001b[0m: "
     ]
    }
   ],
   "source": [
    "### BEGIN HIDDEN TESTS\n",
    "import unittest\n",
    "import io\n",
    "import mock\n",
    "\n",
    "def testing_cheese():\n",
    "    with mock.patch('builtins.input', return_value='Cheddar'):\n",
    "        assert chees() == 'We have Cheddar, yessir.'\n",
    "        \n",
    "    with mock.patch('builtins.input', return_value='Muenster'):\n",
    "        assert chees() == 'We have Muenster, yessir.'\n",
    "        \n",
    "    with mock.patch('builtins.input', return_value='Red Leicester'):\n",
    "        assert chees() == 'We have Red Leicester, yessir.'\n",
    "\n",
    "    with mock.patch('builtins.input', return_value='gift'):\n",
    "        assert chees() == \"I'm afraid we don't have any gift.\"\n",
    "        \n",
    "    with mock.patch('builtins.input', return_value='Chedder'):\n",
    "        assert chees() == \"I'm afraid we don't have any Chedder.\"\n",
    "\n",
    "    # tc = unittest.TestCase()\n",
    "    # with mock.patch('sys.stdout', new_callable=io.StringIO) as mock_stdout:\n",
    "      #  tc.AssertEqual(mock_stdout.get_value(), 'We have 3 cheese(s)!\\nMuenster\\nCheddar\\nRed Leicester')\n",
    "        \n",
    "    with mock.patch('builtins.input', return_value=\"You... do have some cheese, don't you?\"):\n",
    "        assert chees() == \"We have 3 cheese(s)!\\nMuenster\\nCheddar\\nRed Leicester\"\n",
    "\n",
    "testing_cheese()\n",
    "### END HIDDEN TESTS"
   ]
  },
  {
   "cell_type": "code",
   "execution_count": null,
   "id": "ad829da7-fa65-4280-ab12-5ce3ebf6de52",
   "metadata": {},
   "outputs": [],
   "source": []
  },
  {
   "cell_type": "code",
   "execution_count": null,
   "id": "0a878021-8bba-48e5-9b2f-fd3433c1c82e",
   "metadata": {},
   "outputs": [],
   "source": []
  },
  {
   "cell_type": "code",
   "execution_count": null,
   "id": "bf626ad9-38c2-44f6-991e-850dd953b69b",
   "metadata": {},
   "outputs": [],
   "source": []
  },
  {
   "cell_type": "code",
   "execution_count": null,
   "id": "7130618c-2fe8-4f23-aec6-50d3a9c7d2c3",
   "metadata": {},
   "outputs": [],
   "source": []
  }
 ],
 "metadata": {
  "kernelspec": {
   "display_name": "Python 3 (ipykernel)",
   "language": "python",
   "name": "python3"
  },
  "language_info": {
   "codemirror_mode": {
    "name": "ipython",
    "version": 3
   },
   "file_extension": ".py",
   "mimetype": "text/x-python",
   "name": "python",
   "nbconvert_exporter": "python",
   "pygments_lexer": "ipython3",
   "version": "3.10.8"
  }
 },
 "nbformat": 4,
 "nbformat_minor": 5
}
