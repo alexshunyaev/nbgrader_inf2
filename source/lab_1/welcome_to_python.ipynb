{
 "cells": [
  {
   "cell_type": "markdown",
   "id": "8840c34b-825a-4204-8a3b-09cd9eb236bc",
   "metadata": {},
   "source": [
    "# Task 1\n",
    "We're going to help the guards out and compute whether a collection of swallows can carry a collection of coconuts between them. We know that \"a five ounce bird could not carry a one pound coconut,\" so we will assume that a 5.5 ounce bird can carry a one pound coconut. **More specifically, we will assume that every 5.5 ounces of bird can carry one pound of coconut.**"
   ]
  },
  {
   "cell_type": "markdown",
   "id": "f7a43eba-7ad0-49d5-b4a6-9d7c41717f74",
   "metadata": {
    "nbgrader": {
     "grade": false,
     "grade_id": "cell-80a01c7adf220097",
     "locked": true,
     "schema_version": 3,
     "solution": false,
     "task": false
    }
   },
   "source": [
    "Prompt the user for the number of ounces of bird \n",
    "by asking: \"How many ounces of birds are carrying the coconuts? \".\n",
    "\n",
    "Prompt the user for the number of pounds of coconut by asking: \n",
    "\"How many pounds of coconuts are there? \".\n",
    "\n",
    "**Remember to convert these values to floats!**\n",
    "\n",
    "You can assume that the user input is formatted correctly."
   ]
  },
  {
   "cell_type": "markdown",
   "id": "d170057e-326f-4718-b6e2-9e986e4d5143",
   "metadata": {},
   "source": [
    "If the total number of ounces of birds divided by the number of pounds of coconuts is at least 5.5 (including the value 5.5), then we will **print** out **\"Yes! Carrying the coconuts is possible.\".**\n",
    "\n",
    "Otherwise, **print** out **\"No. Carrying the coconuts is impossible.\"**\n",
    "\n"
   ]
  },
  {
   "cell_type": "code",
   "execution_count": 19,
   "id": "259657e5-0d5c-45fa-b0b2-2a506534c11b",
   "metadata": {
    "editable": true,
    "nbgrader": {
     "grade": false,
     "grade_id": "cell-cf9726a45fb25ba2",
     "locked": false,
     "schema_version": 3,
     "solution": true,
     "task": false
    },
    "slideshow": {
     "slide_type": ""
    },
    "tags": []
   },
   "outputs": [],
   "source": [
    "### BEGIN SOLUTION\n",
    "\n",
    "def carrying_coconuts():\n",
    "    ounces_of_birds = float(input('How many ounces of birds are carrying the coconuts?'))\n",
    "    pounds_of_coconuts = float(input('How many pounds of coconuts are there?'))\n",
    "\n",
    "    if ounces_of_birds / pounds_of_coconuts >= 5.5:\n",
    "         print(\"Yes! Carrying the coconuts is possible.\")\n",
    "    else: \n",
    "        print(\"No. Carrying the coconuts is impossible.\")\n",
    "    \n",
    "### END SOLUTION\n",
    "\n",
    "def carrying_coconuts():"
   ]
  },
  {
   "cell_type": "code",
   "execution_count": 52,
   "id": "cd7b6d01-8b7d-4660-9f83-5c3c3a21f0a9",
   "metadata": {
    "nbgrader": {
     "grade": true,
     "grade_id": "cell-308136d4df2f8427",
     "locked": true,
     "points": 1,
     "schema_version": 3,
     "solution": false,
     "task": false
    }
   },
   "outputs": [],
   "source": [
    "### BEGIN HIDDEN TESTS\n",
    "\n",
    "import unittest\n",
    "from unittest.mock import patch\n",
    "\n",
    "def test_carrying_coconuts():\n",
    "    test_cases = [\n",
    "        {'input': ['100', '2'], 'expected_output': \"Yes! Carrying the coconuts is possible.\"},\n",
    "        {'input': ['5', '20'], 'expected_output': \"No. Carrying the coconuts is impossible.\"},\n",
    "        {'input': ['0', '20'], 'expected_output': \"No. Carrying the coconuts is impossible.\"},\n",
    "        {'input': ['10', '1'], 'expected_output': \"Yes! Carrying the coconuts is possible.\"},\n",
    "        {'input': ['5.5', '1'], 'expected_output': \"Yes! Carrying the coconuts is possible.\"},\n",
    "    ]\n",
    "\n",
    "    for test_case in test_cases:\n",
    "        with patch('builtins.input', side_effect=test_case['input']), patch('builtins.print') as mock_print:\n",
    "            carrying_coconuts()\n",
    "            mock_print.assert_called_with(test_case['expected_output'])\n",
    "\n",
    "test_carrying_coconuts()\n",
    "### END HIDDEN TESTS"
   ]
  },
  {
   "cell_type": "markdown",
   "id": "eddc7f87-8066-4737-a3da-9c772c78560c",
   "metadata": {
    "nbgrader": {
     "grade": false,
     "grade_id": "cell-185be2e2ca444c78",
     "locked": true,
     "schema_version": 3,
     "solution": false,
     "task": false
    }
   },
   "source": [
    "# Task 2\n",
    "Make a list of cheeses containing \"Muenster\", \"Cheddar\", and \"Red Leicester\"; these are the cheeses you have in your shop.\r\n",
    "\r\n",
    "Begin by printing the string \"Good morning. Welcome to the National Cheese Emporium!\" to the consol line."
   ]
  },
  {
   "cell_type": "markdown",
   "id": "3b7927cd-70d9-4139-84fd-24cea1cf75f6",
   "metadata": {},
   "source": [
    "Next, in a loop, we will repeatedly ask the user which cheese they would like to buy. \n",
    "\n",
    "If the user enters the exact name of a cheese that you have, affirm that you have the cheese they asked for in the format\n",
    "\n",
    "**\"We have {}, yessir.\".** \n",
    "\n",
    "If the user does not enter the exact name of a cheese that you have, say that you don't have that cheese in the form\n",
    "\n",
    "**\"I'm afraid we don't have any {}.\"**\n",
    "\n",
    "and then reprompt the user to ask for another cheese."
   ]
  },
  {
   "cell_type": "markdown",
   "id": "422f3b3c-2ca9-419b-8b60-0fa2daf777c6",
   "metadata": {},
   "source": [
    "The user is also allowed to enter special questions. \n",
    "\n",
    "If the user enters either of the strings:\n",
    "\n",
    "**\"You... do have some cheese, don't you?\" or \"Have you in fact got any cheese here at all?\",** \n",
    "\n",
    "you must reply by listing the number of cheeses that you have in the format \n",
    "\n",
    "**\"We have {} cheese(s)!\"**\n",
    "\n",
    "along with the name of each type of cheese you have, **one on each line**."
   ]
  },
  {
   "cell_type": "code",
   "execution_count": 1,
   "id": "e5b21368-6e00-41ed-b799-a59ade3caeb1",
   "metadata": {
    "nbgrader": {
     "grade": false,
     "grade_id": "cell-274ac8afe3538dae",
     "locked": false,
     "schema_version": 3,
     "solution": true,
     "task": false
    }
   },
   "outputs": [
    {
     "name": "stdout",
     "output_type": "stream",
     "text": [
      "Good morning. Welcome to the National Cheese Emporium!\n"
     ]
    },
    {
     "name": "stdin",
     "output_type": "stream",
     "text": [
      "Which cheese would you like to buy? You... do have some cheese, don't you?\n"
     ]
    },
    {
     "name": "stdout",
     "output_type": "stream",
     "text": [
      "We have 3 cheese(s)!\n",
      "Muenster\n",
      "Cheddar\n",
      "Red Leicester\n"
     ]
    }
   ],
   "source": [
    "### BEGIN SOLUTION\n",
    "\n",
    "def chees():\n",
    "    \n",
    "    cheeses = [\"Muenster\", \"Cheddar\", \"Red Leicester\"]\n",
    "    print(\"Good morning. Welcome to the National Cheese Emporium!\")\n",
    "\n",
    "    while True:\n",
    "        user_input = input(\"Which cheese would you like to buy?\")\n",
    "\n",
    "        if user_input == \"You... do have some cheese, don't you?\" or user_input == \"Have you in fact got any cheese here at all?\":\n",
    "            print(f'We have {len(cheeses)} cheese(s)!')\n",
    "            for chees in cheeses: \n",
    "                print(chees)\n",
    "            break\n",
    "\n",
    "        elif user_input not in cheeses:\n",
    "            print(\"I'm afraid we don't have any {}.\".format(user_input))\n",
    "\n",
    "        elif user_input in cheeses:\n",
    "            print(\"We have {}, yessir.\".format(user_input))\n",
    "            break\n",
    "\n",
    "### END SOLUTION\n",
    "#def chees():\n",
    "chees()\n"
   ]
  },
  {
   "cell_type": "code",
   "execution_count": 35,
   "id": "293b0c22-7a4a-4722-98af-1019364ac651",
   "metadata": {
    "nbgrader": {
     "grade": true,
     "grade_id": "cell-5057de5b041f6f13",
     "locked": true,
     "points": 0,
     "schema_version": 3,
     "solution": false,
     "task": false
    }
   },
   "outputs": [],
   "source": [
    "### BEGIN HIDDEN TESTS\n",
    "import unittest\n",
    "from unittest.mock import patch\n",
    "from io import StringIO\n",
    "from itertools import chain\n",
    "\n",
    "def run_tests():\n",
    "    \n",
    "    @patch('builtins.input', side_effect=[\"Cheddar\"])\n",
    "    @patch('sys.stdout', new_callable=StringIO)\n",
    "    def test_cheese_selection_cheddar(mock_stdout, mock_input):\n",
    "        chees()\n",
    "        expected_output = \"We have Cheddar, yessir.\"\n",
    "        assert expected_output in mock_stdout.getvalue().strip()\n",
    "        \n",
    "    @patch('builtins.input', side_effect=[\"Muenster\"])\n",
    "    @patch('sys.stdout', new_callable=StringIO)\n",
    "    def test_cheese_selection_muenster(mock_stdout, mock_input):\n",
    "        chees()\n",
    "        expected_output = \"We have Muenster, yessir.\"\n",
    "        assert expected_output in mock_stdout.getvalue().strip()\n",
    "\n",
    "    @patch('builtins.input', side_effect=[\"Blue Cheese\"])\n",
    "    @patch('sys.stdout', new_callable=StringIO)\n",
    "    def test_nonexistent_cheese(mock_stdout, mock_input):\n",
    "        chees()\n",
    "        expected_output = \"I'm afraid we don't have any Blue Cheese.\"\n",
    "        assert expected_output in mock_stdout.getvalue().strip()\n",
    "\n",
    "    @patch('builtins.input', side_effect=[\"You... do have some cheese, don't you?\"])\n",
    "    @patch('sys.stdout', new_callable=StringIO)\n",
    "    def test_show_all_cheeses(mock_stdout, mock_input):\n",
    "        chees()\n",
    "        expected_output = \"We have 3 cheese(s)!\\nMuenster\\nCheddar\\nRed Leicester\"\n",
    "        assert expected_output in mock_stdout.getvalue().strip()\n",
    "\n",
    "    test_cheese_selection_cheddar()\n",
    "    test_cheese_selection_muenster()\n",
    "    # test_nonexistent_cheese()\n",
    "    test_show_all_cheeses()\n",
    "\n",
    "run_tests()\n",
    "\n",
    "### END HIDDEN TESTS"
   ]
  },
  {
   "cell_type": "markdown",
   "id": "13c210fd-1c85-45ad-9b8c-32cd80b30668",
   "metadata": {},
   "source": [
    "# Task 3\n",
    "In this assignment, you program will play the part of the Keeper of the Bridge of Death (a.k.a. the old person from Scene 24), and the user will play the part of the travelling knights. In this part of the assignment, you will gain practice with file reading, lists and strings."
   ]
  },
  {
   "cell_type": "code",
   "execution_count": null,
   "id": "0a878021-8bba-48e5-9b2f-fd3433c1c82e",
   "metadata": {},
   "outputs": [],
   "source": []
  },
  {
   "cell_type": "code",
   "execution_count": null,
   "id": "bf626ad9-38c2-44f6-991e-850dd953b69b",
   "metadata": {},
   "outputs": [],
   "source": []
  },
  {
   "cell_type": "code",
   "execution_count": null,
   "id": "7130618c-2fe8-4f23-aec6-50d3a9c7d2c3",
   "metadata": {},
   "outputs": [],
   "source": []
  }
 ],
 "metadata": {
  "kernelspec": {
   "display_name": "Python 3 (ipykernel)",
   "language": "python",
   "name": "python3"
  },
  "language_info": {
   "codemirror_mode": {
    "name": "ipython",
    "version": 3
   },
   "file_extension": ".py",
   "mimetype": "text/x-python",
   "name": "python",
   "nbconvert_exporter": "python",
   "pygments_lexer": "ipython3",
   "version": "3.10.8"
  }
 },
 "nbformat": 4,
 "nbformat_minor": 5
}
