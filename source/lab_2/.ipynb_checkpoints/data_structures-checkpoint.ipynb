{
 "cells": [
  {
   "cell_type": "markdown",
   "id": "f8e85140-2c25-4348-8766-d8a954e02f15",
   "metadata": {
    "nbgrader": {
     "grade": false,
     "grade_id": "cell-cb04dcd98533ddf6",
     "locked": true,
     "schema_version": 3,
     "solution": false,
     "task": false
    }
   },
   "source": [
    "# Task 1\n",
    "Edit say_hello so that it **prints** \"Hello, world!\" when executed.\n",
    "\n"
   ]
  },
  {
   "cell_type": "code",
   "execution_count": 4,
   "id": "9bacb6a8-df98-4816-a02d-0e74eb81f9ac",
   "metadata": {
    "nbgrader": {
     "grade": false,
     "grade_id": "cell-c4a5f4669af2b450",
     "locked": false,
     "schema_version": 3,
     "solution": true,
     "task": false
    }
   },
   "outputs": [],
   "source": [
    "### BEGIN SOLUTION\n",
    "def say_hello():\n",
    "     print('Hello, world!')\n",
    "### END SOLUTION\n",
    "def say_hello():\n"
   ]
  },
  {
   "cell_type": "code",
   "execution_count": 5,
   "id": "ba1871f4-df1c-48e3-8b43-30f20c3389df",
   "metadata": {
    "nbgrader": {
     "grade": true,
     "grade_id": "cell-1971fb7d65d88972",
     "locked": true,
     "points": 0,
     "schema_version": 3,
     "solution": false,
     "task": false
    }
   },
   "outputs": [],
   "source": [
    "# Run this cell to check your code\n",
    "\n",
    "import unittest\n",
    "import unittest.mock\n",
    "import io\n",
    "\n",
    "tc = unittest.TestCase()\n",
    "with unittest.mock.patch('sys.stdout', new_callable=io.StringIO) as mock_stdout:\n",
    "    say_hello()\n",
    "    tc.assertNotEqual(mock_stdout.getvalue(), 'Hello, world\\n')\n",
    "\n",
    "### BEGIN HIDDEN TESTS\n",
    "\n",
    "tc = unittest.TestCase()\n",
    "with unittest.mock.patch('sys.stdout', new_callable=io.StringIO) as mock_stdout:\n",
    "    say_hello()\n",
    "    tc.assertEqual(mock_stdout.getvalue(), 'Hello, world!\\n')\n",
    "\n",
    "### END HIDDEN TESTS"
   ]
  },
  {
   "cell_type": "markdown",
   "id": "6791c354-c01d-4c2c-9f44-afe8a5552b9c",
   "metadata": {
    "nbgrader": {
     "grade": false,
     "grade_id": "cell-9346fff82b7a7b4f",
     "locked": true,
     "schema_version": 3,
     "solution": false,
     "task": false
    }
   },
   "source": [
    "# Task 2\n",
    "**Edit fizzbuzz(n)** to find the **sum of all the multiples of 3 or 5 below 1001.** As a sanity check, the last two digits of the sum should be 68.\n",
    "\n",
    "Make sure that your function **returns** the sum."
   ]
  },
  {
   "cell_type": "code",
   "execution_count": 3,
   "id": "0da88d3d-5780-4d34-9f09-a38a4fa933af",
   "metadata": {
    "nbgrader": {
     "grade": false,
     "grade_id": "cell-8ed2007c3a947eca",
     "locked": false,
     "schema_version": 3,
     "solution": true,
     "task": false
    }
   },
   "outputs": [
    {
     "ename": "SyntaxError",
     "evalue": "incomplete input (1581305058.py, line 7)",
     "output_type": "error",
     "traceback": [
      "\u001b[1;36m  Cell \u001b[1;32mIn[3], line 7\u001b[1;36m\u001b[0m\n\u001b[1;33m    def fizzbuzz(n):\u001b[0m\n\u001b[1;37m                    ^\u001b[0m\n\u001b[1;31mSyntaxError\u001b[0m\u001b[1;31m:\u001b[0m incomplete input\n"
     ]
    }
   ],
   "source": [
    "### BEGIN SOLUTION\n",
    "\n",
    "def fizzbuzz(number):\n",
    "    return sum([i for i in range(number) if (i % 3 == 0) or (i % 5 == 0)])\n",
    "    \n",
    "### END SOLUTION\n",
    "def fizzbuzz(n):"
   ]
  },
  {
   "cell_type": "code",
   "execution_count": null,
   "id": "32523c98-06f3-43ed-ad41-57f1626c4a64",
   "metadata": {
    "nbgrader": {
     "grade": true,
     "grade_id": "cell-d514062f25ca23b9",
     "locked": true,
     "points": 0,
     "schema_version": 3,
     "solution": false,
     "task": false
    }
   },
   "outputs": [],
   "source": [
    "### Run this cell to check your function with other values\n",
    "assert fizzbuzz(100) == 2318\n",
    "assert fizzbuzz(56) == 753\n",
    "assert fizzbuzz(1) == 0\n",
    "assert fizzbuzz(2356) == 1295250\n",
    "\n",
    "### BEGIN HIDDEN TESTS\n",
    "\n",
    "def testing_fizzbuzz():\n",
    "    assert fizzbuzz(1001) == 234168\n",
    "\n",
    "testing_fizzbuzz()\n",
    "\n",
    "### END HIDDEN TESTS"
   ]
  },
  {
   "cell_type": "markdown",
   "id": "a94a7dee-5d4f-4648-80c7-8ffede643430",
   "metadata": {},
   "source": [
    "# Task 3\n",
    "The Collatz sequence is an iterative sequence defined on the positive integers by:\n",
    "\n",
    "n -> n / 2 if n is **even**\n",
    "\n",
    "n -> 3n + 1 if n is **od**d"
   ]
  },
  {
   "cell_type": "markdown",
   "id": "8cdf37bd-447a-43c3-b065-d5d8d230c822",
   "metadata": {},
   "source": [
    "For example, using the rule above and starting with 13 yields the sequence:\n",
    "\n",
    "**13 -> 40 -> 20 -> 10 -> 5 -> 16 -> 8 -> 4 -> 2 -> 1**"
   ]
  },
  {
   "cell_type": "markdown",
   "id": "8ae9f18e-0749-45dd-af2b-e101eed676f2",
   "metadata": {},
   "source": [
    "It can be seen that this sequence (starting at 13 and finishing at 1) contains 10 terms. Although unproven, it it hypothesized that all starting numbers finish at 1.\n",
    "\n",
    "**Edit max_collatz_len(n)** so that **it computes the the length of the longest chain** which has a starting number under n and use it to find the longest chain that has a starting number under 1000."
   ]
  },
  {
   "cell_type": "markdown",
   "id": "92f78f01-99a1-457c-9307-19c11e1c8f03",
   "metadata": {
    "nbgrader": {
     "grade": false,
     "grade_id": "cell-069071ae4436bfff",
     "locked": true,
     "schema_version": 3,
     "solution": false,
     "task": false
    }
   },
   "source": [
    "**Note** it is easier to implement a **collatz_len()** function to calculate the collatz length and then to edit a **max_collatz_len()** function so that you can finf the longest chain."
   ]
  },
  {
   "cell_type": "code",
   "execution_count": null,
   "id": "99b965e0-6488-49e7-b94d-f9a01b7db3e2",
   "metadata": {
    "nbgrader": {
     "grade": false,
     "grade_id": "cell-9eb47e90c445335d",
     "locked": false,
     "schema_version": 3,
     "solution": true,
     "task": false
    }
   },
   "outputs": [],
   "source": [
    "### BEGIN SOLUTION\n",
    "\n",
    "def collatz_len(n):\n",
    "    count = 1\n",
    "    while n != 1:\n",
    "        n = n // 2 if n % 2 == 0 else 3*n+1\n",
    "        count += 1\n",
    "    return count\n",
    "\n",
    "def max_collatz_len(n):\n",
    "    return max(collatz_len(x) for x in range(1, n))\n",
    "\n",
    "### END SOLUTION\n",
    "def collatz_len(n):\n",
    "def max_collatz_len(n):"
   ]
  },
  {
   "cell_type": "code",
   "execution_count": null,
   "id": "a239a92d-2a80-4a1e-a2a2-3650e28bc780",
   "metadata": {
    "nbgrader": {
     "grade": true,
     "grade_id": "cell-c9d4008917832eec",
     "locked": true,
     "points": 0,
     "schema_version": 3,
     "solution": false,
     "task": false
    }
   },
   "outputs": [],
   "source": [
    "### Run this cell to check your function with other values\n",
    "assert max_collatz_len(100) == 119\n",
    "assert max_collatz_len(2) == 1\n",
    "assert max_collatz_len(50) == 112\n",
    "### BEGIN HIDDEN TESTS\n",
    "\n",
    "def test_max_collatz_len():\n",
    "    assert max_collatz_len(10) == 20\n",
    "    assert max_collatz_len(20) == 21\n",
    "    assert max_collatz_len(1000) == 179\n",
    "    \n",
    "test_max_collatz_len()\n",
    "\n",
    "### END HIDDEN TESTS"
   ]
  },
  {
   "cell_type": "markdown",
   "id": "3ecf049d-41fb-4e69-81ca-4622447732cf",
   "metadata": {},
   "source": [
    "For the next question you just need to re-write **collatz_len()** function."
   ]
  },
  {
   "cell_type": "code",
   "execution_count": null,
   "id": "77cc263a-1b0b-4ebd-bf90-44e4c7a31488",
   "metadata": {
    "nbgrader": {
     "grade": false,
     "grade_id": "cell-1d89288ce2c94977",
     "locked": false,
     "schema_version": 3,
     "solution": true,
     "task": false
    }
   },
   "outputs": [],
   "source": [
    "'''You can also try to solve a challenge problem'''\n",
    "\n",
    "'''Challenge: Same question, but for any starting number under 1,000,000. What about for any starting number under 10,000,000? \n",
    "You may need to implement a cleverer-than-naive algorithm.'''\n",
    "\n",
    "### BEGIN SOLUTION\n",
    "from functools import lru_cache\n",
    "\n",
    "\n",
    "@lru_cache(maxsize=None)\n",
    "def collatz_len(n):\n",
    "    if n == 1:\n",
    "        return 1\n",
    "    else:\n",
    "        n_next = 3*n+1 if n % 2 == 1 else n // 2\n",
    "        return collatz_len(n_next) + 1\n",
    "        \n",
    "### END SOLUTION\n",
    "def collatz_len(n):"
   ]
  },
  {
   "cell_type": "code",
   "execution_count": null,
   "id": "e6bacccd-56e0-403d-852b-22feb308c382",
   "metadata": {
    "nbgrader": {
     "grade": true,
     "grade_id": "cell-dcda42be96acc037",
     "locked": true,
     "points": 0,
     "schema_version": 3,
     "solution": false,
     "task": false
    }
   },
   "outputs": [],
   "source": [
    "'''Run this cell only if you are sure about the solution or it will take a huge amount of time to compute.'''\n",
    "assert max_collatz_len(1000000) == 525\n",
    "assert max_collatz_len(10000000) == 686"
   ]
  },
  {
   "attachments": {},
   "cell_type": "markdown",
   "id": "e64a1da0-8a42-4e21-9ad1-ff349f710a34",
   "metadata": {
    "nbgrader": {
     "grade": false,
     "grade_id": "cell-b1774196c3cc004a",
     "locked": true,
     "schema_version": 3,
     "solution": false,
     "task": false
    }
   },
   "source": [
    "# Task 4\n",
    "**Implement print_tictactoe using print() so that, when run, it prints out a tic-tac-toe board.**\n"
   ]
  },
  {
   "cell_type": "code",
   "execution_count": null,
   "id": "f9429a7d-7f6a-4cb6-b08f-ae07491e6ea1",
   "metadata": {
    "nbgrader": {
     "grade": false,
     "grade_id": "cell-f23e964d7ea84181",
     "locked": true,
     "schema_version": 3,
     "solution": false,
     "task": false
    }
   },
   "outputs": [],
   "source": [
    "''' X | . | . \n",
    "   -----------\n",
    "    . | O | . \n",
    "   -----------\n",
    "    . | O | X ''' "
   ]
  },
  {
   "cell_type": "code",
   "execution_count": null,
   "id": "6c5210e6-578f-4830-96d5-d4e5eaf4cc38",
   "metadata": {
    "nbgrader": {
     "grade": false,
     "grade_id": "cell-088d1d857b8aa75a",
     "locked": false,
     "schema_version": 3,
     "solution": true,
     "task": false
    }
   },
   "outputs": [],
   "source": [
    "### BEGIN SOLUTION\n",
    "def print_tic_tac_toe():\n",
    "    board = [[' X', '.', '. '], [' .', 'O', '. '], [' .', 'O', 'X']]\n",
    "    for i, row in enumerate(board):\n",
    "        print(\" | \".join(row))\n",
    "        if i < len(board) - 1:\n",
    "            print(\"-\" * 11)\n",
    "### END SOLUTION\n",
    "def print_tictactoe():"
   ]
  },
  {
   "cell_type": "code",
   "execution_count": null,
   "id": "84cafe38-8462-4be4-8238-1a3beb9b5434",
   "metadata": {
    "nbgrader": {
     "grade": true,
     "grade_id": "cell-f7dbf9185beec70b",
     "locked": true,
     "points": 0,
     "schema_version": 3,
     "solution": false,
     "task": false
    }
   },
   "outputs": [],
   "source": [
    "### BEGIN HIDDEN TESTS\n",
    "from io import StringIO\n",
    "import sys\n",
    "\n",
    "def capture_print_output(func):\n",
    "    captured_output = StringIO()\n",
    "    sys.stdout = captured_output\n",
    "    func()\n",
    "    sys.stdout = sys.__stdout__\n",
    "    return captured_output.getvalue().strip()\n",
    "\n",
    "def test_print_tic_tac_toe():\n",
    "    expected_output = \"X | . | . \\n-----------\\n . | O | . \\n-----------\\n . | O | X\"\n",
    "    actual_output = capture_print_output(print_tic_tac_toe)\n",
    "    assert actual_output == expected_output, \"Printed output does not match expected output.\"\n",
    "\n",
    "test_print_tic_tac_toe()\n",
    "\n",
    "### END HIDDEN TESTS"
   ]
  },
  {
   "cell_type": "markdown",
   "id": "11f504b8-7ecb-4587-a5f7-df5fd1e34b06",
   "metadata": {
    "nbgrader": {
     "grade": false,
     "grade_id": "cell-e18485b4bdc6d2f2",
     "locked": true,
     "schema_version": 3,
     "solution": false,
     "task": false
    }
   },
   "source": [
    "# Task 5\n",
    "**Write a program that prints out a SUPER tic-tac-toe board.**"
   ]
  },
  {
   "cell_type": "code",
   "execution_count": null,
   "id": "3099f0b8-39ef-4718-86a7-11e9a0a1c72a",
   "metadata": {
    "nbgrader": {
     "grade": false,
     "grade_id": "cell-a279b53bcb66cf5d",
     "locked": true,
     "schema_version": 3,
     "solution": false,
     "task": false
    }
   },
   "outputs": [],
   "source": [
    "'''  |  |  H  |  |  H  |  |  \n",
    "   --+--+--H--+--+--H--+--+--\n",
    "     |  |  H  |  |  H  |  |  \n",
    "   --+--+--H--+--+--H--+--+--\n",
    "     |  |  H  |  |  H  |  |  \n",
    "   ========+========+========\n",
    "     |  |  H  |  |  H  |  |  \n",
    "   --+--+--H--+--+--H--+--+--\n",
    "     |  |  H  |  |  H  |  |  \n",
    "   --+--+--H--+--+--H--+--+--\n",
    "     |  |  H  |  |  H  |  |  \n",
    "   ========+========+========\n",
    "     |  |  H  |  |  H  |  |  \n",
    "   --+--+--H--+--+--H--+--+--\n",
    "     |  |  H  |  |  H  |  |  \n",
    "   --+--+--H--+--+--H--+--+--  \n",
    "     |  |  H  |  |  H  |  |   '''"
   ]
  },
  {
   "cell_type": "code",
   "execution_count": null,
   "id": "494f468a-eb9f-4fe0-8dee-74974c6c39a9",
   "metadata": {
    "nbgrader": {
     "grade": false,
     "grade_id": "cell-e215a53497362d23",
     "locked": false,
     "schema_version": 3,
     "solution": true,
     "task": false
    }
   },
   "outputs": [],
   "source": [
    "### BEGIN SOLUTION\n",
    "def super_tic_tac_toe():\n",
    "    print('  |  |  H  |  |  H  |  |  \\n\\\n",
    "--+--+--H--+--+--H--+--+--  \\n\\\n",
    "  |  |  H  |  |  H  |  |    \\n\\\n",
    "--+--+--H--+--+--H--+--+--  \\n\\\n",
    "  |  |  H  |  |  H  |  |    \\n\\\n",
    "========+========+========  \\n\\\n",
    "  |  |  H  |  |  H  |  |    \\n\\\n",
    "--+--+--H--+--+--H--+--+--  \\n\\\n",
    "  |  |  H  |  |  H  |  |    \\n\\\n",
    "--+--+--H--+--+--H--+--+--  \\n\\\n",
    "  |  |  H  |  |  H  |  |    \\n\\\n",
    "========+========+========  \\n\\\n",
    "  |  |  H  |  |  H  |  |    \\n\\\n",
    "--+--+--H--+--+--H--+--+--  \\n\\\n",
    "  |  |  H  |  |  H  |  |    \\n\\\n",
    "--+--+--H--+--+--H--+--+--  \\n\\\n",
    "  |  |  H  |  |  H  |  |  ')\n",
    "\n",
    "### END SOLUTION\n",
    "# def super_tic_tac_toe():\n",
    "super_tic_tac_toe()"
   ]
  },
  {
   "cell_type": "code",
   "execution_count": null,
   "id": "ce18797e-c5ed-4750-a05e-fc464fd8abd0",
   "metadata": {
    "nbgrader": {
     "grade": true,
     "grade_id": "cell-0f30cc9cdc88bdfa",
     "locked": true,
     "points": 0,
     "schema_version": 3,
     "solution": false,
     "task": false
    }
   },
   "outputs": [],
   "source": [
    "### BEGIN HIDDEN TESTS \n",
    "def test_board_output():\n",
    "    expected_output = (\n",
    "        '  |  |  H  |  |  H  |  |  \\n\\\n",
    "         --+--+--H--+--+--H--+--+--  \\n\\\n",
    "           |  |  H  |  |  H  |  |    \\n\\\n",
    "         --+--+--H--+--+--H--+--+--  \\n\\\n",
    "           |  |  H  |  |  H  |  |    \\n\\\n",
    "         ========+========+========  \\n\\\n",
    "           |  |  H  |  |  H  |  |    \\n\\\n",
    "         --+--+--H--+--+--H--+--+--  \\n\\\n",
    "           |  |  H  |  |  H  |  |    \\n\\\n",
    "         --+--+--H--+--+--H--+--+--  \\n\\\n",
    "           |  |  H  |  |  H  |  |    \\n\\\n",
    "         ========+========+========  \\n\\\n",
    "           |  |  H  |  |  H  |  |    \\n\\\n",
    "         --+--+--H--+--+--H--+--+--  \\n\\\n",
    "           |  |  H  |  |  H  |  |    \\n\\\n",
    "         --+--+--H--+--+--H--+--+--  \\n\\\n",
    "           |  |  H  |  |  H  |  |  ')\n",
    "    assert super_tic_tac_toe() == expected_output\n",
    "\n",
    "### END HIDDEN TESTS\n",
    "test_board_output()"
   ]
  },
  {
   "cell_type": "markdown",
   "id": "b7502e9d-bd08-43cc-9774-f12ec6f28026",
   "metadata": {
    "nbgrader": {
     "grade": false,
     "grade_id": "cell-3ad96528e4ce9060",
     "locked": true,
     "schema_version": 3,
     "solution": false,
     "task": false
    }
   },
   "source": [
    "# Task 6\n",
    "This problem is called lattice paths. Starting in the top left corner of a 2*2 grid, and only being able to move to the right and down, there are exactly 6 routes to the bottom right corner.\n",
    "\n",
    "Implement **lattice_paths(m, n)** to be a recursive function that, when run, calculates the number of paths from the top left of an m*n grid (m rows and n columns) to the bottom right corner."
   ]
  },
  {
   "cell_type": "code",
   "execution_count": null,
   "id": "fa21ea6e-4fab-471e-a14d-d3eb6af1ecf4",
   "metadata": {
    "nbgrader": {
     "grade": false,
     "grade_id": "cell-ad3f4f6f3038d5d2",
     "locked": false,
     "schema_version": 3,
     "solution": true,
     "task": false
    }
   },
   "outputs": [],
   "source": [
    "### BEGIN SOLUTION\n",
    "\n",
    "def lattice_paths(m, n):\n",
    "    # Base case\n",
    "    if m == 0 or n == 0:\n",
    "        return 1\n",
    "    # Recursive case\n",
    "    else:\n",
    "        return lattice_paths(m - 1, n) + lattice_paths(m, n - 1)\n",
    "        \n",
    "### END SOLUTION\n",
    "def lattice_paths(m, n):"
   ]
  },
  {
   "cell_type": "code",
   "execution_count": null,
   "id": "26a6a560-1c2e-4711-a90a-c06ff9051267",
   "metadata": {
    "nbgrader": {
     "grade": true,
     "grade_id": "cell-61ad69aff9c9fb5e",
     "locked": true,
     "points": 0,
     "schema_version": 3,
     "solution": false,
     "task": false
    }
   },
   "outputs": [],
   "source": [
    "# Run this cell to check how your function works\n",
    "assert lattice_paths(6, 6) == 924\n",
    "assert lattice_paths(7, 7) == 3432\n",
    "\n",
    "### BEGIN HIDDEN TESTS\n",
    "assert lattice_paths(1, 1) == 2\n",
    "assert lattice_paths(0, 0) == 1\n",
    "assert lattice_paths(10, 10) == 184756\n",
    "### END HIDDEN TESTS"
   ]
  },
  {
   "cell_type": "markdown",
   "id": "d8093041-3cca-4c92-9d99-5f441963e1e0",
   "metadata": {
    "nbgrader": {
     "grade": false,
     "grade_id": "cell-2d25fe19e80d4b68",
     "locked": true,
     "schema_version": 3,
     "solution": false,
     "task": false
    }
   },
   "source": [
    "Notice that the way that our code is constructed results in a lot of repeated calls to the same functions. For example, if you start at the top of a 20*20 grid and go down, then right, you'll make a function call for a 19*19 grid. But you'll also make that call if you go right and then down. This is where caching comes in. We'll store the output of lattice_paths in a dictionary the first time that we call it and then the second time, we'll just immediately return the value from the dictionary so that we won't make calls twice.\n",
    "\n",
    "In **lattice_paths_cached**, let's cache lattice_paths by adding its output to a dictionary. This dictionary should have keys that are tuples (m, n) and values that are the output lattice_paths(m,n). Make sure to check if the tuple (m,n) is in the cache dictionary at the beginning of the function execution."
   ]
  },
  {
   "cell_type": "code",
   "execution_count": null,
   "id": "3036c8e7-f412-407f-8961-afd1bb88dd4b",
   "metadata": {
    "nbgrader": {
     "grade": false,
     "grade_id": "cell-524dfd01424c69af",
     "locked": false,
     "schema_version": 3,
     "solution": true,
     "task": false
    }
   },
   "outputs": [],
   "source": [
    "### BEGIN SOLUTION\n",
    "def lattice_paths_cached(m, n, memo={}):\n",
    "    # Check if the result is already memoized\n",
    "    if (m, n) in memo:\n",
    "        return memo[(m, n)]\n",
    "    \n",
    "    # Base case\n",
    "    if m == 0 or n == 0:\n",
    "        return 1\n",
    "    \n",
    "    # Recursive case\n",
    "    paths = lattice_paths_cached(m - 1, n, memo) + lattice_paths_cached(m, n - 1, memo)\n",
    "    \n",
    "    # Memoize the result before returning\n",
    "    memo[(m, n)] = paths\n",
    "    \n",
    "    return paths\n",
    "### END SOLUTION\n",
    "def lattice_paths_cached(m, n, memo={}):"
   ]
  },
  {
   "cell_type": "code",
   "execution_count": null,
   "id": "e8af8dd4-3b81-4992-b1d8-a3dbbb997b29",
   "metadata": {
    "nbgrader": {
     "grade": true,
     "grade_id": "cell-aa464037852cfb77",
     "locked": true,
     "points": 0,
     "schema_version": 3,
     "solution": false,
     "task": false
    }
   },
   "outputs": [],
   "source": [
    "'''Only run this cell if you are sure about your code or it will take a huge amount of time to compute'''\n",
    "\n",
    "assert lattice_paths_cached(40, 40) == 107507208733336176461620\n",
    "assert lattice_paths_cached(100, 100) == 90548514656103281165404177077484163874504589675413336841320"
   ]
  },
  {
   "cell_type": "markdown",
   "id": "52f393fe-2754-4a85-bbf4-4ef20897eae3",
   "metadata": {
    "nbgrader": {
     "grade": false,
     "grade_id": "cell-b3b125a96652d537",
     "locked": true,
     "schema_version": 3,
     "solution": false,
     "task": false
    }
   },
   "source": [
    "# Task 5\n",
    "Write a function to compute the GCD of two positive integers. You can freely use the fact that gcd(a, b) is mathematically equal to gcd(b, a % b), and that gcd(a, 0) == a.\n",
    "\n",
    "You can assume that a >= b if you'd like. But remember that there might be tests with negative numbers.\n",
    "\n",
    "It is possible to accomplish this in three lines of Python code (or with extra cleverness, even fewer!). Consider exploiting tuple packing and unpacking!\n",
    "\n",
    "**Implement your solution in the gcd() function.**"
   ]
  },
  {
   "cell_type": "code",
   "execution_count": null,
   "id": "1b8d47e4-517b-4a03-9170-67e4764d3251",
   "metadata": {
    "nbgrader": {
     "grade": false,
     "grade_id": "cell-7f4f96e22d5ebe2f",
     "locked": false,
     "schema_version": 3,
     "solution": true,
     "task": false
    }
   },
   "outputs": [],
   "source": [
    "### BEGIN SOLUTION\n",
    "\n",
    "def gcd(a, b):\n",
    "    return a if b == 0 else gcd(b, a % b)\n",
    "\n",
    "### END SOLUTION\n",
    "def gcd(a, b):"
   ]
  },
  {
   "cell_type": "code",
   "execution_count": null,
   "id": "6ae95aa4-20ab-49e9-83b5-7bd7de211a66",
   "metadata": {
    "nbgrader": {
     "grade": true,
     "grade_id": "cell-28d093e70a2466c1",
     "locked": true,
     "points": 0,
     "schema_version": 3,
     "solution": false,
     "task": false
    }
   },
   "outputs": [],
   "source": [
    "# Run this cell to check how your function works\n",
    "assert gcd(48, 18) == 6\n",
    "assert gcd(123456, 789012) == 12\n",
    "assert gcd(17, 19) == 1\n",
    "\n",
    "### BEGIN HIDDEN TESTS\n",
    "assert gcd(48, 0) == 48\n",
    "assert gcd(0, 0) == 0\n",
    "assert gcd(-36, 48) == 12\n",
    "### END HIDDEN TESTS\n"
   ]
  },
  {
   "cell_type": "markdown",
   "id": "ab7d2f6d-0600-420b-895e-95ce634c696e",
   "metadata": {
    "nbgrader": {
     "grade": false,
     "grade_id": "cell-fb4f0a31e8e838fe",
     "locked": true,
     "schema_version": 3,
     "solution": false,
     "task": false
    }
   },
   "source": [
    "# Task 6"
   ]
  },
  {
   "cell_type": "code",
   "execution_count": null,
   "id": "de866acd-8eb7-4319-9cb9-c33ffe5e69e2",
   "metadata": {
    "nbgrader": {
     "grade": false,
     "grade_id": "cell-24ab0e5e91347ba2",
     "locked": true,
     "schema_version": 3,
     "solution": false,
     "task": false
    }
   },
   "outputs": [],
   "source": [
    "'''I asked our course staff what their favorite animal is and they gave me these answers:'''\n",
    "fav_animals = {\n",
    "    'parth': 'unicorn',\n",
    "    'michael': 'elephant',\n",
    "    'sam': 'ox',\n",
    "    'zheng': 'tree',\n",
    "    'theo': 'puppy',\n",
    "    'alex': 'dog',\n",
    "    'nick': 'daisy'\n",
    "}"
   ]
  },
  {
   "cell_type": "code",
   "execution_count": null,
   "id": "7864e1d1-c879-4f0e-9b29-c5ddb748dcfe",
   "metadata": {
    "nbgrader": {
     "grade": false,
     "grade_id": "cell-d2769559fa85a351",
     "locked": true,
     "schema_version": 3,
     "solution": false,
     "task": false
    }
   },
   "outputs": [],
   "source": [
    "'''I know that, realistically, they're lying to themselves. In fact, the dict probably looks more like this:'''\n",
    "fav_animals = {\n",
    "    'parth': 'unicorn',\n",
    "    'michael': 'unicorn',\n",
    "    'sam': 'unicorn',\n",
    "    'zheng': 'tree',\n",
    "    'theo': 'unicorn',\n",
    "    'alex': 'dog',\n",
    "    'nick': 'daisy'\n",
    "}"
   ]
  },
  {
   "cell_type": "markdown",
   "id": "e2d57e2b-103b-431e-bb93-64afbc0a89df",
   "metadata": {
    "nbgrader": {
     "grade": false,
     "grade_id": "cell-df07718dd00bd6c8",
     "locked": true,
     "schema_version": 3,
     "solution": false,
     "task": false
    }
   },
   "source": [
    "In this problem, we'll reverse the fav_animals dictionary to create a new dictionary which associates animals to a list of people for whom that animal is their favorite.\n",
    "\n",
    "More precisely, **write a function that properly reverses the keys and values of a dictionary** - each key (originally a value) should map to a collection of values (originally keys) that mapped to it. Example in the cell:"
   ]
  },
  {
   "cell_type": "code",
   "execution_count": null,
   "id": "328de455-f4cf-4726-a786-2b18b388f87f",
   "metadata": {
    "nbgrader": {
     "grade": false,
     "grade_id": "cell-3292e1d9665bef21",
     "locked": true,
     "schema_version": 3,
     "solution": false,
     "task": false
    }
   },
   "outputs": [],
   "source": [
    "flip_dict({\"CA\": \"US\", \"NY\": \"US\", \"ON\": \"CA\"}) => {\"US\": [\"CA\", \"NY\"], \"CA\": [\"ON\"]}"
   ]
  },
  {
   "cell_type": "code",
   "execution_count": null,
   "id": "76134d6e-5140-4da5-8cbe-1d01ea7f4ac8",
   "metadata": {
    "nbgrader": {
     "grade": false,
     "grade_id": "cell-423c5e21cf539125",
     "locked": false,
     "schema_version": 3,
     "solution": true,
     "task": false
    }
   },
   "outputs": [],
   "source": [
    "### BEGIN SOLUTION\n",
    "\n",
    "def flip_dict(d):\n",
    "    out = {}\n",
    "    for key, value in d.items():\n",
    "        if value not in out:\n",
    "            out[value] = []\n",
    "        out[value].append(key)\n",
    "    return out\n",
    "\n",
    "### END SOLUTION\n",
    "def flip_dict(d):"
   ]
  },
  {
   "cell_type": "code",
   "execution_count": null,
   "id": "1091cf99-f356-4385-a9a2-506f5460f215",
   "metadata": {
    "nbgrader": {
     "grade": true,
     "grade_id": "cell-f7e4b164b1cee83b",
     "locked": true,
     "points": 0,
     "schema_version": 3,
     "solution": false,
     "task": false
    }
   },
   "outputs": [],
   "source": [
    "# Run this cell to check how your function works\n",
    "assert flip_dict({\"CA\": \"US\", \"NY\": \"US\", \"ON\": \"CA\"}) == {\"US\": [\"CA\", \"NY\"], \"CA\": [\"ON\"]}\n",
    "\n",
    "### BEGIN HIDDEN TESTS\n",
    "\n",
    "assert flip_dict({\n",
    "    'parth': 'unicorn',\n",
    "    'michael': 'unicorn',\n",
    "    'sam': 'unicorn',\n",
    "    'zheng': 'tree',\n",
    "    'theo': 'unicorn',\n",
    "    'alex': 'dog',\n",
    "    'nick': 'daisy'}) == {'unicorn': ['parth', 'michael', 'sam', 'theo'],\n",
    "                          'tree': ['zheng'],\n",
    "                          'dog': ['alex'],\n",
    "                          'daisy': ['nick']}\n",
    "\n",
    "### END HIDDEN TESTS"
   ]
  },
  {
   "cell_type": "markdown",
   "id": "1131f25f-98c2-4dbc-af96-b5f18af3c994",
   "metadata": {
    "nbgrader": {
     "grade": false,
     "grade_id": "cell-385da7eb580b5122",
     "locked": true,
     "schema_version": 3,
     "solution": false,
     "task": false
    }
   },
   "source": [
    "# Bonus problems #"
   ]
  },
  {
   "cell_type": "markdown",
   "id": "f1b1af01-2570-4153-a400-31bc933cc28f",
   "metadata": {
    "nbgrader": {
     "grade": false,
     "grade_id": "cell-9b4eedb8d1ca55cb",
     "locked": true,
     "schema_version": 3,
     "solution": false,
     "task": false
    }
   },
   "source": [
    "# Bonus task 1 \n",
    "Write a function with the name generate_pascal_row that generates the next level of Pascal's triangle given a list that represents a row of Pascal’s triangle.\n",
    "\n",
    "generate_pascal_row([1, 2, 1]) -> [1, 3, 3, 1]\n",
    "\r\n",
    "generate_pascal_row([1, 4, 6, 4, 1]) -> [1, 5, 10, 10, 5, 1]\n",
    "\n",
    "\r\n",
    "generate_pascal_row([]) ->[\n",
    "1]"
   ]
  },
  {
   "cell_type": "markdown",
   "id": "72618d5f-ce73-4944-851c-ce2c94507299",
   "metadata": {
    "nbgrader": {
     "grade": false,
     "grade_id": "cell-ba590dafffc180c1",
     "locked": true,
     "schema_version": 3,
     "solution": false,
     "task": false
    }
   },
   "source": [
    "As a reminder, each element in a row of Pascal's triangle is formed by summing the two elements in the previous row directly above (to the left and right) that elements. If there is only one element directly above, we only add that one. For example, the first 5 rows of Pascal's triangle look like:"
   ]
  },
  {
   "cell_type": "code",
   "execution_count": null,
   "id": "31b525c6-ffdf-46cc-83fb-c99f9deeeea8",
   "metadata": {
    "nbgrader": {
     "grade": false,
     "grade_id": "cell-9aefe05f3de52fb3",
     "locked": true,
     "schema_version": 3,
     "solution": false,
     "task": false
    }
   },
   "outputs": [],
   "source": [
    "    1\n",
    "   1 1\n",
    "  1 2 1\n",
    " 1 3 3 1\n",
    "1 4 6 4 1"
   ]
  },
  {
   "cell_type": "code",
   "execution_count": null,
   "id": "003eedfe-f9eb-4ac0-9db8-131205ad9b75",
   "metadata": {
    "nbgrader": {
     "grade": false,
     "grade_id": "cell-2d512bb98118c6d3",
     "locked": false,
     "schema_version": 3,
     "solution": true,
     "task": false
    }
   },
   "outputs": [],
   "source": [
    "### BEGIN SOLUTION\n",
    "\n",
    "def generate_pascal_row(row):\n",
    "    if not row:\n",
    "        return [1] \n",
    "    \n",
    "    next_row = [1] + [sum(pair) for pair in zip(row, row[1:])] + [1]\n",
    "    \n",
    "    return next_row\n",
    "    \n",
    "### END SOLUTION\n",
    "def generate_pascal_row(row):"
   ]
  },
  {
   "cell_type": "code",
   "execution_count": null,
   "id": "db865dd3-6853-45e6-a6f1-b4460a7978eb",
   "metadata": {
    "nbgrader": {
     "grade": true,
     "grade_id": "cell-7783c6b713759950",
     "locked": true,
     "points": 0,
     "schema_version": 3,
     "solution": false,
     "task": false
    }
   },
   "outputs": [],
   "source": [
    "assert generate_pascal_row([1, 2, 1]) == [1, 3, 3, 1]\n",
    "assert generate_pascal_row([1, 4, 6, 4, 1]) == [1, 5, 10, 10, 5, 1]\n",
    "\n",
    "### BEGIN HIDDEN TESTS \n",
    "assert generate_pascal_row([]) == [1]\n",
    "assert generate_pascal_row([1]) == [1, 1]\n",
    "assert generate_pascal_row([1, 1]) == [1, 2, 1]\n",
    "### END HIDDEN TESTS\n"
   ]
  },
  {
   "cell_type": "markdown",
   "id": "a8cf3281-1233-4582-865b-ce1892ecf045",
   "metadata": {
    "nbgrader": {
     "grade": false,
     "grade_id": "cell-9814ca2866f0d35d",
     "locked": true,
     "schema_version": 3,
     "solution": false,
     "task": false
    }
   },
   "source": [
    "# Bonus task 2\n",
    "\n",
    "**Implement pretty_pascal_triangle so that given a number n, it prints out the first n rows of Pascal's triangle, centering each line.** You should use the generate_pascal_row function you wrote previously. The Pascal's triangle with 1 row just contains the number 1.\r\n",
    "\r\n",
    "To center a string in Python, you can use use string format specifiers. '{:^10}'.format(var) will produce a string of length 10 or len(var) (whichever is longer), with str(var) centered."
   ]
  },
  {
   "cell_type": "code",
   "execution_count": null,
   "id": "599910fd-ec2a-4d17-bebf-aa616a6fc88a",
   "metadata": {
    "nbgrader": {
     "grade": false,
     "grade_id": "cell-6e085e7322bb152c",
     "locked": true,
     "schema_version": 3,
     "solution": false,
     "task": false
    }
   },
   "outputs": [],
   "source": [
    "'{:^10}'.format('CS41') # => '   CS41   '"
   ]
  },
  {
   "cell_type": "code",
   "execution_count": null,
   "id": "5191dcde-7bd7-47a3-81af-42bd9d9c8665",
   "metadata": {
    "nbgrader": {
     "grade": false,
     "grade_id": "cell-68777f9b3f94a8a4",
     "locked": false,
     "schema_version": 3,
     "solution": true,
     "task": false
    }
   },
   "outputs": [],
   "source": [
    "### BEGIN SOLUTION\n",
    "def pretty_pascal_triangle(n):\n",
    "    prev = []\n",
    "    rows = [prev := generate_pascal_row(prev) for _ in range(n)]\n",
    "    \n",
    "    rows = [[str(e) for e in row] for row in rows]\n",
    "    rows = [' '.join(row) for row in rows]\n",
    "    width = len(rows[-1])\n",
    "    \n",
    "    # Print each row\n",
    "    for row in rows:\n",
    "        print(\"{row:^{width}}\".format(row=row, width=width))\n",
    "\n",
    "pretty_pascal_triangle(10)\n",
    "### END SOLUTION\n",
    "#def pretty_pascal_triangle(n):"
   ]
  },
  {
   "cell_type": "code",
   "execution_count": null,
   "id": "20da499b-8ead-44b5-a797-7fb223da06dd",
   "metadata": {
    "nbgrader": {
     "grade": true,
     "grade_id": "cell-c2c7b32563f0f270",
     "locked": true,
     "points": 0,
     "schema_version": 3,
     "solution": false,
     "task": false
    }
   },
   "outputs": [],
   "source": [
    "# Run this cell to check how your function works\n",
    "tc = unittest.TestCase()\n",
    "with unittest.mock.patch('sys.stdout', new_callable=io.StringIO) as mock_stdout:\n",
    "    pretty_pascal_triangle(1)\n",
    "    tc.assertEqual(mock_stdout.getvalue(), \"1\\n\")\n",
    "\n",
    "tc1 = unittest.TestCase()\n",
    "with unittest.mock.patch('sys.stdout', new_callable=io.StringIO) as mock_stdout:\n",
    "    pretty_pascal_triangle(3)\n",
    "    tc1.assertEqual(mock_stdout.getvalue(), \"  1  \\n 1 1 \\n1 2 1\\n\")\n",
    "\n",
    "             \n",
    "### BEGIN HIDDEN TESTS\n",
    "tc3 = unittest.TestCase()\n",
    "with unittest.mock.patch('sys.stdout', new_callable=io.StringIO) as mock_stdout:\n",
    "    pretty_pascal_triangle(5)\n",
    "    tc3.assertEqual(mock_stdout.getvalue(), \"    1    \\n   1 1   \\n  1 2 1  \\n 1 3 3 1 \\n1 4 6 4 1\\n\")\n",
    "### END HIDDEN TESTS"
   ]
  },
  {
   "cell_type": "code",
   "execution_count": null,
   "id": "7a9993a8-58be-4375-b712-f7ec6d0cb2ea",
   "metadata": {
    "nbgrader": {
     "grade": false,
     "grade_id": "cell-de6a8067baddf9b3",
     "locked": true,
     "schema_version": 3,
     "solution": false,
     "task": false
    }
   },
   "outputs": [],
   "source": [
    "print(\"             1             \\n            1 1            \\n           1 2 1           \\n          1 3 3 1          \\n         1 4 6 4 1         \\n       1 5 10 10 5 1       \\n     1 6 15 20 15 6 1     \\n    1 7 21 35 35 21 7 1    \\n  1 8 28 56 70 56 28 8 1  \\n1 9 36 84 126 126 84 36 9 1\\n\")"
   ]
  },
  {
   "cell_type": "code",
   "execution_count": null,
   "id": "aa2610f9-122a-46bc-8859-7557f591cb1d",
   "metadata": {
    "nbgrader": {
     "grade": false,
     "grade_id": "cell-69b3565587b33d16",
     "locked": true,
     "schema_version": 3,
     "solution": false,
     "task": false
    }
   },
   "outputs": [],
   "source": [
    "'''Run this cell to have a list of words at your working directory'''\n",
    "\n",
    "import requests\n",
    "\n",
    "file_url = 'https://www.mit.edu/~ecprice/wordlist.10000'\n",
    "\n",
    "response = requests.get(file_url)\n",
    "\n",
    "if response.status_code == 200:\n",
    "    with open('words.txt', 'wb') as file:\n",
    "        file.write(response.content)\n",
    "    print('File downloaded successfully.')\n",
    "else:\n",
    "    print(f'Failed to download the file. Status code: {response.status_code}')"
   ]
  },
  {
   "cell_type": "markdown",
   "id": "aca766e7-c980-4a6d-9bcf-dab66726da18",
   "metadata": {
    "nbgrader": {
     "grade": false,
     "grade_id": "cell-088e5176cc099a07",
     "locked": true,
     "schema_version": 3,
     "solution": false,
     "task": false
    }
   },
   "source": [
    "# Bonus task 3\n",
    "**Write a function called load_english** that loads the words from this file and returns them. What would be an appropriate data structure in which to store these words?"
   ]
  },
  {
   "cell_type": "code",
   "execution_count": null,
   "id": "54c0ef10-d248-4147-888f-e696d50d0f92",
   "metadata": {
    "nbgrader": {
     "grade": false,
     "grade_id": "cell-79e0b2930b369945",
     "locked": false,
     "schema_version": 3,
     "solution": true,
     "task": false
    }
   },
   "outputs": [],
   "source": [
    "### BEGIN SOLUTION\n",
    "def load_english(file_path):\n",
    "    try:\n",
    "        with open(file_path, 'r', encoding='utf-8') as file:\n",
    "            words = file.read().split()\n",
    "        return words\n",
    "    except FileNotFoundError:\n",
    "        print(f\"Error: File '{file_path}' not found.\")\n",
    "        return []\n",
    "# END SOLUTION\n",
    "def load_english(file_path):"
   ]
  },
  {
   "cell_type": "code",
   "execution_count": null,
   "id": "252a8d3d-c09d-4fe7-9351-4475788edb52",
   "metadata": {
    "nbgrader": {
     "grade": true,
     "grade_id": "cell-a18880f7f017f3ad",
     "locked": true,
     "points": 0,
     "schema_version": 3,
     "solution": false,
     "task": false
    }
   },
   "outputs": [],
   "source": [
    "# Run this cell to check if you are right with your solution\n",
    "assert len(load_english('words.txt')) == 10000"
   ]
  },
  {
   "cell_type": "code",
   "execution_count": null,
   "id": "1319769b-fd5c-4033-a9f4-fbc3d88f3b95",
   "metadata": {},
   "outputs": [],
   "source": []
  },
  {
   "cell_type": "code",
   "execution_count": null,
   "id": "d83f4bc4-6ca0-4fd6-866e-4342df3e35f6",
   "metadata": {},
   "outputs": [],
   "source": []
  },
  {
   "cell_type": "code",
   "execution_count": null,
   "id": "2a0c66a9-b8e3-4fee-ad61-ea82ab1febbd",
   "metadata": {},
   "outputs": [],
   "source": []
  }
 ],
 "metadata": {
  "kernelspec": {
   "display_name": "Python 3 (ipykernel)",
   "language": "python",
   "name": "python3"
  },
  "language_info": {
   "codemirror_mode": {
    "name": "ipython",
    "version": 3
   },
   "file_extension": ".py",
   "mimetype": "text/x-python",
   "name": "python",
   "nbconvert_exporter": "python",
   "pygments_lexer": "ipython3",
   "version": "3.10.8"
  }
 },
 "nbformat": 4,
 "nbformat_minor": 5
}
