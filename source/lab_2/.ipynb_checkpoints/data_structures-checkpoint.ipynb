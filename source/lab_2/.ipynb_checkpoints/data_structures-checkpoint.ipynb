{
 "cells": [
  {
   "cell_type": "markdown",
   "id": "f8e85140-2c25-4348-8766-d8a954e02f15",
   "metadata": {
    "nbgrader": {
     "grade": false,
     "grade_id": "cell-cb04dcd98533ddf6",
     "locked": true,
     "schema_version": 3,
     "solution": false,
     "task": false
    }
   },
   "source": [
    "Edit say_hello so that it **prints** \"Hello, world!\" when executed.\n",
    "\n"
   ]
  },
  {
   "cell_type": "code",
   "execution_count": 34,
   "id": "9bacb6a8-df98-4816-a02d-0e74eb81f9ac",
   "metadata": {
    "nbgrader": {
     "grade": false,
     "grade_id": "cell-c4a5f4669af2b450",
     "locked": false,
     "schema_version": 3,
     "solution": true,
     "task": false
    }
   },
   "outputs": [],
   "source": [
    "### WRITE YOR CODE HERE\n",
    "def say_hello():\n",
    "raise NotImplementedError\n",
    "\n",
    "### BEGIN SOLUTION\n",
    "def say_hello():\n",
    "     print('Hello, world!')\n",
    "### END SOLUTION\n"
   ]
  },
  {
   "cell_type": "code",
   "execution_count": 35,
   "id": "ba1871f4-df1c-48e3-8b43-30f20c3389df",
   "metadata": {
    "nbgrader": {
     "grade": true,
     "grade_id": "cell-1971fb7d65d88972",
     "locked": true,
     "points": 0,
     "schema_version": 3,
     "solution": false,
     "task": false
    }
   },
   "outputs": [],
   "source": [
    "### BEGIN HIDDEN TESTS\n",
    "import unittest\n",
    "import unittest.mock\n",
    "import io\n",
    "\n",
    "tc = unittest.TestCase()\n",
    "with unittest.mock.patch('sys.stdout', new_callable=io.StringIO) as mock_stdout:\n",
    "    say_hello()\n",
    "    tc.assertEqual(mock_stdout.getvalue(), 'Hello, world!\\n')\n",
    "\n",
    "### END HIDDEN TESTS"
   ]
  },
  {
   "cell_type": "markdown",
   "id": "6791c354-c01d-4c2c-9f44-afe8a5552b9c",
   "metadata": {
    "nbgrader": {
     "grade": false,
     "grade_id": "cell-9346fff82b7a7b4f",
     "locked": true,
     "schema_version": 3,
     "solution": false,
     "task": false
    }
   },
   "source": [
    "**Edit fizzbuzz(n) to find the sum of all the multiples of 3 or 5 below 1001. As a sanity check, the last two digits of the sum should be 68.**\n",
    "\n",
    "Make sure that your function **returns** the sum."
   ]
  },
  {
   "cell_type": "code",
   "execution_count": 46,
   "id": "0da88d3d-5780-4d34-9f09-a38a4fa933af",
   "metadata": {
    "nbgrader": {
     "grade": false,
     "grade_id": "cell-8ed2007c3a947eca",
     "locked": false,
     "schema_version": 3,
     "solution": true,
     "task": false
    }
   },
   "outputs": [
    {
     "data": {
      "text/plain": [
       "1295250"
      ]
     },
     "execution_count": 46,
     "metadata": {},
     "output_type": "execute_result"
    }
   ],
   "source": [
    "### YOUR CODE HERE\n",
    "def fizzbuzz(n):\n",
    "raise NotImplementedError\n",
    "\n",
    "\n",
    "### BEGIN SOLUTION\n",
    "def fizzbuzz(number):\n",
    "    return sum([i for i in range(number) if (i % 3 == 0) or (i % 5 == 0)])\n",
    "### END SOLUTION"
   ]
  },
  {
   "cell_type": "code",
   "execution_count": 47,
   "id": "32523c98-06f3-43ed-ad41-57f1626c4a64",
   "metadata": {
    "nbgrader": {
     "grade": true,
     "grade_id": "cell-d514062f25ca23b9",
     "locked": true,
     "points": 0,
     "schema_version": 3,
     "solution": false,
     "task": false
    }
   },
   "outputs": [],
   "source": [
    "### Run this cell to check your function with other values\n",
    "assert fizzbuzz(100) == 2318\n",
    "assert fizzbuzz(56) == 753\n",
    "assert fizzbuzz(1) == 0\n",
    "assert fizzbuzz(2356) == 1295250\n",
    "\n",
    "\n",
    "### BEGIN HIDDEN TESTS\n",
    "\n",
    "def testing_fizzbuzz():\n",
    "    assert fizzbuzz(1001) == 234168\n",
    "\n",
    "testing_fizzbuzz()\n",
    "\n",
    "### END HIDDEN TESTS"
   ]
  },
  {
   "cell_type": "markdown",
   "id": "c16f8461-9e05-4439-b145-d81adac1d887",
   "metadata": {},
   "source": [
    "**Note** it is easier to implement a function to calculate the collatz length and then to edit a max_collatz_len function"
   ]
  },
  {
   "cell_type": "code",
   "execution_count": 2,
   "id": "99b965e0-6488-49e7-b94d-f9a01b7db3e2",
   "metadata": {},
   "outputs": [
    {
     "data": {
      "text/plain": [
       "112"
      ]
     },
     "execution_count": 2,
     "metadata": {},
     "output_type": "execute_result"
    }
   ],
   "source": [
    "### YOUR CODE HERE\n",
    "def max_collatz_len(n):\n",
    "raise NotImplementedError\n",
    "\n",
    "### BEGIN SOLUTION\n",
    "def collatz_len(n):\n",
    "    count = 1\n",
    "    while n != 1:\n",
    "        n = n // 2 if n % 2 == 0 else 3*n+1\n",
    "        count += 1\n",
    "    return count\n",
    "\n",
    "def max_collatz_len(n):\n",
    "    return max(collatz_len(x) for x in range(1, n))\n",
    "\n",
    "### END SOLUTION"
   ]
  },
  {
   "cell_type": "code",
   "execution_count": 13,
   "id": "a239a92d-2a80-4a1e-a2a2-3650e28bc780",
   "metadata": {
    "nbgrader": {
     "grade": true,
     "grade_id": "cell-c9d4008917832eec",
     "locked": true,
     "points": 0,
     "schema_version": 3,
     "solution": false,
     "task": false
    }
   },
   "outputs": [],
   "source": [
    "### Run this cell to check your function with other values\n",
    "assert max_collatz_len(100) == 119\n",
    "assert max_collatz_len(2) == 1\n",
    "assert max_collatz_len(50) == 112\n",
    "\n",
    "\n",
    "### BEGIN HIDDEN TESTS\n",
    "\n",
    "def test_max_collatz_len():\n",
    "    assert max_collatz_len(10) == 20\n",
    "    assert max_collatz_len(20) == 21\n",
    "    assert max_collatz_len(1000) == 179\n",
    "    \n",
    "test_max_collatz_len()\n",
    "\n",
    "### END HIDDEN TESTS"
   ]
  },
  {
   "cell_type": "code",
   "execution_count": 7,
   "id": "77cc263a-1b0b-4ebd-bf90-44e4c7a31488",
   "metadata": {
    "nbgrader": {
     "grade": false,
     "grade_id": "cell-1d89288ce2c94977",
     "locked": false,
     "schema_version": 3,
     "solution": true,
     "task": false
    }
   },
   "outputs": [],
   "source": [
    "'''You can also try to solve a challenge problem'''\n",
    "\n",
    "'''Challenge: Same question, but for any starting number under 1,000,000. What about for any starting number under 10,000,000? \n",
    "You may need to implement a cleverer-than-naive algorithm.'''\n",
    "\n",
    "### BEGIN SOLUTION\n",
    "from functools import lru_cache\n",
    "\n",
    "\n",
    "@lru_cache(maxsize=None)\n",
    "def collatz_len(n):\n",
    "    if n == 1:\n",
    "        return 1\n",
    "    else:\n",
    "        n_next = 3*n+1 if n % 2 == 1 else n // 2\n",
    "        return collatz_len(n_next) + 1\n",
    "        \n",
    "### END SOLUTION"
   ]
  },
  {
   "cell_type": "code",
   "execution_count": 8,
   "id": "e6bacccd-56e0-403d-852b-22feb308c382",
   "metadata": {
    "nbgrader": {
     "grade": true,
     "grade_id": "cell-dcda42be96acc037",
     "locked": false,
     "points": 0,
     "schema_version": 3,
     "solution": true,
     "task": false
    }
   },
   "outputs": [],
   "source": [
    "'''Run this cell only if you are sure about the solution or it will take a huge amount of time to compute.'''\n",
    "assert max_collatz_len(1000000) == 525"
   ]
  },
  {
   "attachments": {},
   "cell_type": "markdown",
   "id": "e64a1da0-8a42-4e21-9ad1-ff349f710a34",
   "metadata": {
    "jp-MarkdownHeadingCollapsed": true
   },
   "source": [
    "**Implement print_tictactoe using print() so that, when run, it prints out a tic-tac-toe board.**\n"
   ]
  },
  {
   "cell_type": "raw",
   "id": "5b825742-e44f-42b8-8b9b-1763be9f6096",
   "metadata": {
    "nbgrader": {
     "grade": false,
     "grade_id": "cell-f23e964d7ea84181",
     "locked": true,
     "schema_version": 3,
     "solution": false,
     "task": false
    }
   },
   "source": [
    " X | . | . \n",
    "-----------\n",
    " . | O | . \n",
    "-----------\n",
    " . | O | X "
   ]
  },
  {
   "cell_type": "code",
   "execution_count": 1,
   "id": "6c5210e6-578f-4830-96d5-d4e5eaf4cc38",
   "metadata": {
    "nbgrader": {
     "grade": false,
     "grade_id": "cell-088d1d857b8aa75a",
     "locked": false,
     "schema_version": 3,
     "solution": true,
     "task": false
    }
   },
   "outputs": [
    {
     "name": "stdout",
     "output_type": "stream",
     "text": [
      " X | . | . \n",
      "-----------\n",
      " . | O | . \n",
      "-----------\n",
      " . | O | X\n"
     ]
    }
   ],
   "source": [
    "### YOUR CODE HERE\n",
    "def print_tictactoe():\n",
    "raise NotImplementedError\n",
    "\n",
    "### BEGIN SOLUTION\n",
    "def print_tic_tac_toe():\n",
    "    board = [[' X', '.', '. '], [' .', 'O', '. '], [' .', 'O', 'X']]\n",
    "    for i, row in enumerate(board):\n",
    "        print(\" | \".join(row))\n",
    "        if i < len(board) - 1:\n",
    "            print(\"-\" * 11)\n",
    "### END SOLUTION\n",
    "\n"
   ]
  },
  {
   "cell_type": "code",
   "execution_count": 4,
   "id": "84cafe38-8462-4be4-8238-1a3beb9b5434",
   "metadata": {
    "nbgrader": {
     "grade": true,
     "grade_id": "cell-f7dbf9185beec70b",
     "locked": true,
     "points": 0,
     "schema_version": 3,
     "solution": false,
     "task": false
    }
   },
   "outputs": [],
   "source": [
    "### BEGIN HIDDEN TESTS\n",
    "from io import StringIO\n",
    "import sys\n",
    "\n",
    "def capture_print_output(func):\n",
    "    captured_output = StringIO()\n",
    "    sys.stdout = captured_output\n",
    "    func()\n",
    "    sys.stdout = sys.__stdout__\n",
    "    return captured_output.getvalue().strip()\n",
    "\n",
    "def test_print_tic_tac_toe():\n",
    "    expected_output = \"X | . | . \\n-----------\\n . | O | . \\n-----------\\n . | O | X\"\n",
    "    actual_output = capture_print_output(print_tic_tac_toe)\n",
    "    assert actual_output == expected_output, \"Printed output does not match expected output.\"\n",
    "\n",
    "test_print_tic_tac_toe()\n",
    "\n",
    "### END HIDDEN TESTS"
   ]
  },
  {
   "cell_type": "markdown",
   "id": "11f504b8-7ecb-4587-a5f7-df5fd1e34b06",
   "metadata": {
    "nbgrader": {
     "grade": false,
     "grade_id": "cell-e18485b4bdc6d2f2",
     "locked": true,
     "schema_version": 3,
     "solution": false,
     "task": false
    }
   },
   "source": [
    "**Write a program that prints out a SUPER tic-tac-toe board.**"
   ]
  },
  {
   "cell_type": "raw",
   "id": "f925a854-98db-4b21-8f7f-546f9ee4bee3",
   "metadata": {
    "nbgrader": {
     "grade": false,
     "grade_id": "cell-a279b53bcb66cf5d",
     "locked": true,
     "schema_version": 3,
     "solution": false,
     "task": false
    }
   },
   "source": [
    "  |  |  H  |  |  H  |  |  \n",
    "--+--+--H--+--+--H--+--+--\n",
    "  |  |  H  |  |  H  |  |  \n",
    "--+--+--H--+--+--H--+--+--\n",
    "  |  |  H  |  |  H  |  |  \n",
    "========+========+========\n",
    "  |  |  H  |  |  H  |  |  \n",
    "--+--+--H--+--+--H--+--+--\n",
    "  |  |  H  |  |  H  |  |  \n",
    "--+--+--H--+--+--H--+--+--\n",
    "  |  |  H  |  |  H  |  |  \n",
    "========+========+========\n",
    "  |  |  H  |  |  H  |  |  \n",
    "--+--+--H--+--+--H--+--+--\n",
    "  |  |  H  |  |  H  |  |  \n",
    "--+--+--H--+--+--H--+--+--\n",
    "  |  |  H  |  |  H  |  |  "
   ]
  },
  {
   "cell_type": "code",
   "execution_count": 1,
   "id": "494f468a-eb9f-4fe0-8dee-74974c6c39a9",
   "metadata": {
    "nbgrader": {
     "grade": false,
     "grade_id": "cell-e215a53497362d23",
     "locked": false,
     "schema_version": 3,
     "solution": true,
     "task": false
    }
   },
   "outputs": [
    {
     "name": "stdout",
     "output_type": "stream",
     "text": [
      "  |  |  H  |  |  H  |  |  \n",
      "--+--+--H--+--+--H--+--+--  \n",
      "  |  |  H  |  |  H  |  |    \n",
      "--+--+--H--+--+--H--+--+--  \n",
      "  |  |  H  |  |  H  |  |    \n",
      "========+========+========  \n",
      "  |  |  H  |  |  H  |  |    \n",
      "--+--+--H--+--+--H--+--+--  \n",
      "  |  |  H  |  |  H  |  |    \n",
      "--+--+--H--+--+--H--+--+--  \n",
      "  |  |  H  |  |  H  |  |    \n",
      "========+========+========  \n",
      "  |  |  H  |  |  H  |  |    \n",
      "--+--+--H--+--+--H--+--+--  \n",
      "  |  |  H  |  |  H  |  |    \n",
      "--+--+--H--+--+--H--+--+--  \n",
      "  |  |  H  |  |  H  |  |  \n"
     ]
    }
   ],
   "source": [
    "### YOUR CODE HERE \n",
    "def super_tic_tac_toe():\n",
    "raise NotImplementedError\n",
    "\n",
    "### BEGIN SOLUTION\n",
    "def super_tic_tac_toe():\n",
    "    print('  |  |  H  |  |  H  |  |  \\n\\\n",
    "--+--+--H--+--+--H--+--+--  \\n\\\n",
    "  |  |  H  |  |  H  |  |    \\n\\\n",
    "--+--+--H--+--+--H--+--+--  \\n\\\n",
    "  |  |  H  |  |  H  |  |    \\n\\\n",
    "========+========+========  \\n\\\n",
    "  |  |  H  |  |  H  |  |    \\n\\\n",
    "--+--+--H--+--+--H--+--+--  \\n\\\n",
    "  |  |  H  |  |  H  |  |    \\n\\\n",
    "--+--+--H--+--+--H--+--+--  \\n\\\n",
    "  |  |  H  |  |  H  |  |    \\n\\\n",
    "========+========+========  \\n\\\n",
    "  |  |  H  |  |  H  |  |    \\n\\\n",
    "--+--+--H--+--+--H--+--+--  \\n\\\n",
    "  |  |  H  |  |  H  |  |    \\n\\\n",
    "--+--+--H--+--+--H--+--+--  \\n\\\n",
    "  |  |  H  |  |  H  |  |  ')\n",
    "\n",
    "super_tic_tac_toe()\n",
    "### END SOLUTION"
   ]
  },
  {
   "cell_type": "code",
   "execution_count": 3,
   "id": "ce18797e-c5ed-4750-a05e-fc464fd8abd0",
   "metadata": {
    "nbgrader": {
     "grade": true,
     "grade_id": "cell-0f30cc9cdc88bdfa",
     "locked": true,
     "points": 0,
     "schema_version": 3,
     "solution": false,
     "task": false
    }
   },
   "outputs": [
    {
     "ename": "AssertionError",
     "evalue": "Printed output does not match expected output.",
     "output_type": "error",
     "traceback": [
      "\u001b[1;31m---------------------------------------------------------------------------\u001b[0m",
      "\u001b[1;31mAssertionError\u001b[0m                            Traceback (most recent call last)",
      "Cell \u001b[1;32mIn[3], line 35\u001b[0m\n\u001b[0;32m     32\u001b[0m     \u001b[38;5;28;01massert\u001b[39;00m actual_output \u001b[38;5;241m==\u001b[39m expected_output, \u001b[38;5;124m\"\u001b[39m\u001b[38;5;124mPrinted output does not match expected output.\u001b[39m\u001b[38;5;124m\"\u001b[39m\n\u001b[0;32m     34\u001b[0m \u001b[38;5;66;03m# Run the test\u001b[39;00m\n\u001b[1;32m---> 35\u001b[0m \u001b[43mtest_super_tic_tac_toe\u001b[49m\u001b[43m(\u001b[49m\u001b[43m)\u001b[49m\n",
      "Cell \u001b[1;32mIn[3], line 32\u001b[0m, in \u001b[0;36mtest_super_tic_tac_toe\u001b[1;34m()\u001b[0m\n\u001b[0;32m     13\u001b[0m     expected_output \u001b[38;5;241m=\u001b[39m \u001b[38;5;124m'''\u001b[39m\u001b[38;5;124m  |  |  H  |  |  H  |  |  \u001b[39m\n\u001b[0;32m     14\u001b[0m \u001b[38;5;124m--+--+--H--+--+--H--+--+--  \u001b[39m\n\u001b[0;32m     15\u001b[0m \u001b[38;5;124m  |  |  H  |  |  H  |  |    \u001b[39m\n\u001b[1;32m   (...)\u001b[0m\n\u001b[0;32m     28\u001b[0m \u001b[38;5;124m--+--+--H--+--+--H--+--+--  \u001b[39m\n\u001b[0;32m     29\u001b[0m \u001b[38;5;124m  |  |  H  |  |  H  |  |  \u001b[39m\u001b[38;5;124m'''\u001b[39m\n\u001b[0;32m     31\u001b[0m     actual_output \u001b[38;5;241m=\u001b[39m capture_print_output(super_tic_tac_toe)\n\u001b[1;32m---> 32\u001b[0m     \u001b[38;5;28;01massert\u001b[39;00m actual_output \u001b[38;5;241m==\u001b[39m expected_output, \u001b[38;5;124m\"\u001b[39m\u001b[38;5;124mPrinted output does not match expected output.\u001b[39m\u001b[38;5;124m\"\u001b[39m\n",
      "\u001b[1;31mAssertionError\u001b[0m: Printed output does not match expected output."
     ]
    }
   ],
   "source": [
    "### BEGIN HIDDEN TESTS \n",
    "from io import StringIO\n",
    "import sys\n",
    "\n",
    "def capture_print_output(func):\n",
    "    captured_output = StringIO()\n",
    "    sys.stdout = captured_output\n",
    "    func()\n",
    "    sys.stdout = sys.__stdout__\n",
    "    return captured_output.getvalue().strip()\n",
    "\n",
    "def test_super_tic_tac_toe():\n",
    "    expected_output = '''  |  |  H  |  |  H  |  |  \n",
    "--+--+--H--+--+--H--+--+--  \n",
    "  |  |  H  |  |  H  |  |    \n",
    "--+--+--H--+--+--H--+--+--  \n",
    "  |  |  H  |  |  H  |  |    \n",
    "========+========+========  \n",
    "  |  |  H  |  |  H  |  |    \n",
    "--+--+--H--+--+--H--+--+--  \n",
    "  |  |  H  |  |  H  |  |    \n",
    "--+--+--H--+--+--H--+--+--  \n",
    "  |  |  H  |  |  H  |  |    \n",
    "========+========+========  \n",
    "  |  |  H  |  |  H  |  |    \n",
    "--+--+--H--+--+--H--+--+--  \n",
    "  |  |  H  |  |  H  |  |    \n",
    "--+--+--H--+--+--H--+--+--  \n",
    "  |  |  H  |  |  H  |  |  '''\n",
    "\n",
    "    actual_output = capture_print_output(super_tic_tac_toe)\n",
    "    assert actual_output == expected_output, \"Printed output does not match expected output.\"\n",
    "\n",
    "# Run the test\n",
    "test_super_tic_tac_toe()\n",
    "\n",
    "\n",
    "### END HIDDEN TESTS"
   ]
  },
  {
   "cell_type": "markdown",
   "id": "b7502e9d-bd08-43cc-9774-f12ec6f28026",
   "metadata": {
    "nbgrader": {
     "grade": false,
     "grade_id": "cell-3ad96528e4ce9060",
     "locked": true,
     "schema_version": 3,
     "solution": false,
     "task": false
    }
   },
   "source": [
    "This problem is called lattice paths. Starting in the top left corner of a 2*2 grid, and only being able to move to the right and down, there are exactly 6 routes to the bottom right corner.\n",
    "\n",
    "Implement **lattice_paths(m, n)** to be a recursive function that, when run, calculates the number of paths from the top left of an m*n grid (m rows and n columns) to the bottom right corner."
   ]
  },
  {
   "cell_type": "code",
   "execution_count": 22,
   "id": "fa21ea6e-4fab-471e-a14d-d3eb6af1ecf4",
   "metadata": {
    "nbgrader": {
     "grade": false,
     "grade_id": "cell-ad3f4f6f3038d5d2",
     "locked": false,
     "schema_version": 3,
     "solution": true,
     "task": false
    }
   },
   "outputs": [
    {
     "data": {
      "text/plain": [
       "184756"
      ]
     },
     "execution_count": 22,
     "metadata": {},
     "output_type": "execute_result"
    }
   ],
   "source": [
    "### YOUR CODE HERE\n",
    "def lattice_paths(m, n):\n",
    "raise NotImplementedError\n",
    "\n",
    "### BEGIN SOLUTION\n",
    "\n",
    "def lattice_paths(m, n):\n",
    "    # Base case\n",
    "    if m == 0 or n == 0:\n",
    "        return 1\n",
    "    # Recursive case\n",
    "    else:\n",
    "        return lattice_paths(m - 1, n) + lattice_paths(m, n - 1)\n",
    "        \n",
    "### END SOLUTION"
   ]
  },
  {
   "cell_type": "code",
   "execution_count": null,
   "id": "26a6a560-1c2e-4711-a90a-c06ff9051267",
   "metadata": {},
   "outputs": [],
   "source": [
    "assert lattice_paths(6, 6) == 924\n",
    "assert lattice_paths(7, 7) == 3432\n",
    "\n",
    "### BEGIN HIDDEN TESTS\n",
    "assert lattice_paths(1, 1) == 2\n",
    "assert lattice_paths(0, 0) == 1\n",
    "assert lattice_paths(10, 10) == 184756\n",
    "### END HIDDEN TESTS"
   ]
  },
  {
   "cell_type": "markdown",
   "id": "d8093041-3cca-4c92-9d99-5f441963e1e0",
   "metadata": {
    "nbgrader": {
     "grade": false,
     "grade_id": "cell-2d25fe19e80d4b68",
     "locked": true,
     "schema_version": 3,
     "solution": false,
     "task": false
    }
   },
   "source": [
    "Notice that the way that our code is constructed results in a lot of repeated calls to the same functions. For example, if you start at the top of a 20*20 grid and go down, then right, you'll make a function call for a 19*19 grid. But you'll also make that call if you go right and then down. This is where caching comes in. We'll store the output of lattice_paths in a dictionary the first time that we call it and then the second time, we'll just immediately return the value from the dictionary so that we won't make calls twice.\n",
    "\n",
    "In **lattice_paths_cached**, let's cache lattice_paths by adding its output to a dictionary. This dictionary should have keys that are tuples (m, n) and values that are the output lattice_paths(m,n). Make sure to check if the tuple (m,n) is in the cache dictionary at the beginning of the function execution."
   ]
  },
  {
   "cell_type": "code",
   "execution_count": 24,
   "id": "3036c8e7-f412-407f-8961-afd1bb88dd4b",
   "metadata": {
    "nbgrader": {
     "grade": false,
     "grade_id": "cell-524dfd01424c69af",
     "locked": false,
     "schema_version": 3,
     "solution": true,
     "task": false
    }
   },
   "outputs": [
    {
     "data": {
      "text/plain": [
       "90548514656103281165404177077484163874504589675413336841320"
      ]
     },
     "execution_count": 24,
     "metadata": {},
     "output_type": "execute_result"
    }
   ],
   "source": [
    "### YOUR CODE HERE\n",
    "def lattice_paths_cached(m, n, memo={}):\n",
    "raise NotImplementedError\n",
    "\n",
    "### BEGIN SOLUTION\n",
    "\n",
    "def lattice_paths_cached(m, n, memo={}):\n",
    "    # Check if the result is already memoized\n",
    "    if (m, n) in memo:\n",
    "        return memo[(m, n)]\n",
    "    \n",
    "    # Base case\n",
    "    if m == 0 or n == 0:\n",
    "        return 1\n",
    "    \n",
    "    # Recursive case\n",
    "    paths = lattice_paths_cached(m - 1, n, memo) + lattice_paths_cached(m, n - 1, memo)\n",
    "    \n",
    "    # Memoize the result before returning\n",
    "    memo[(m, n)] = paths\n",
    "    \n",
    "    return paths\n",
    "\n",
    "### END SOLUTION"
   ]
  },
  {
   "cell_type": "code",
   "execution_count": 25,
   "id": "e8af8dd4-3b81-4992-b1d8-a3dbbb997b29",
   "metadata": {
    "nbgrader": {
     "grade": true,
     "grade_id": "cell-aa464037852cfb77",
     "locked": true,
     "points": 0,
     "schema_version": 3,
     "solution": false,
     "task": false
    }
   },
   "outputs": [],
   "source": [
    "'''Only run this cell if you are sure about your code or it will take a huge amount of time to compute'''\n",
    "\n",
    "assert lattice_paths_cached(40, 40) == 107507208733336176461620\n",
    "assert lattice_paths_cached(100, 100) == 90548514656103281165404177077484163874504589675413336841320"
   ]
  },
  {
   "cell_type": "markdown",
   "id": "52f393fe-2754-4a85-bbf4-4ef20897eae3",
   "metadata": {
    "nbgrader": {
     "grade": false,
     "grade_id": "cell-b3b125a96652d537",
     "locked": true,
     "schema_version": 3,
     "solution": false,
     "task": false
    }
   },
   "source": [
    "Write a function to compute the GCD of two positive integers. You can freely use the fact that gcd(a, b) is mathematically equal to gcd(b, a % b), and that gcd(a, 0) == a.\n",
    "\n",
    "You can assume that a >= b if you'd like. But remember that there might be tests with negative numbers.\n",
    "\n",
    "It is possible to accomplish this in three lines of Python code (or with extra cleverness, even fewer!). Consider exploiting tuple packing and unpacking!\n",
    "\n",
    "**Implement your solution in the gcd() function.**"
   ]
  },
  {
   "cell_type": "code",
   "execution_count": 27,
   "id": "1b8d47e4-517b-4a03-9170-67e4764d3251",
   "metadata": {
    "nbgrader": {
     "grade": false,
     "grade_id": "cell-7f4f96e22d5ebe2f",
     "locked": false,
     "schema_version": 3,
     "solution": true,
     "task": false
    }
   },
   "outputs": [
    {
     "data": {
      "text/plain": [
       "6"
      ]
     },
     "execution_count": 27,
     "metadata": {},
     "output_type": "execute_result"
    }
   ],
   "source": [
    "### YOUR CODE HERE\n",
    "def gcd(a, b):\n",
    "raise NotImplementedError\n",
    "\n",
    "### BEGIN SOLUTION\n",
    "\n",
    "def gcd(a, b):\n",
    "    return a if b == 0 else gcd(b, a % b)\n",
    "\n",
    "### END SOLUTION\n"
   ]
  },
  {
   "cell_type": "code",
   "execution_count": 31,
   "id": "6ae95aa4-20ab-49e9-83b5-7bd7de211a66",
   "metadata": {
    "nbgrader": {
     "grade": true,
     "grade_id": "cell-28d093e70a2466c1",
     "locked": true,
     "points": 0,
     "schema_version": 3,
     "solution": false,
     "task": false
    }
   },
   "outputs": [],
   "source": [
    "assert gcd(48, 18) == 6\n",
    "assert gcd(123456, 789012) == 12\n",
    "assert gcd(17, 19) == 1\n",
    "\n",
    "### BEGIN HIDDEN TESTS\n",
    "assert gcd(48, 0) == 48\n",
    "assert gcd(0, 0) == 0\n",
    "assert gcd(-36, 48) == 12\n",
    "### END HIDDEN TESTS\n"
   ]
  },
  {
   "cell_type": "raw",
   "id": "83b1f4d4-7fed-45f2-ba51-79754ca75c98",
   "metadata": {
    "nbgrader": {
     "grade": false,
     "grade_id": "cell-24ab0e5e91347ba2",
     "locked": true,
     "schema_version": 3,
     "solution": false,
     "task": false
    }
   },
   "source": [
    "'''I asked our course staff what their favorite animal is and they gave me these answers:'''\n",
    "fav_animals = {\n",
    "    'parth': 'unicorn',\n",
    "    'michael': 'elephant',\n",
    "    'sam': 'ox',\n",
    "    'zheng': 'tree',\n",
    "    'theo': 'puppy',\n",
    "    'alex': 'dog',\n",
    "    'nick': 'daisy'\n",
    "}"
   ]
  },
  {
   "cell_type": "raw",
   "id": "2e353402-b659-4c3e-8d0e-f91ad212e3cd",
   "metadata": {
    "nbgrader": {
     "grade": false,
     "grade_id": "cell-d2769559fa85a351",
     "locked": true,
     "schema_version": 3,
     "solution": false,
     "task": false
    }
   },
   "source": [
    "'''I know that, realistically, they're lying to themselves. In fact, the dict probably looks more like this:'''\n",
    "fav_animals = {\n",
    "    'parth': 'unicorn',\n",
    "    'michael': 'unicorn',\n",
    "    'sam': 'unicorn',\n",
    "    'zheng': 'tree',\n",
    "    'theo': 'unicorn',\n",
    "    'alex': 'dog',\n",
    "    'nick': 'daisy'\n",
    "}"
   ]
  },
  {
   "cell_type": "markdown",
   "id": "e2d57e2b-103b-431e-bb93-64afbc0a89df",
   "metadata": {},
   "source": [
    "In this problem, we'll reverse the fav_animals dictionary to create a new dictionary which associates animals to a list of people for whom that animal is their favorite.\n",
    "\n",
    "More precisely, **write a function that properly reverses the keys and values of a dictionary** - each key (originally a value) should map to a collection of values (originally keys) that mapped to it."
   ]
  },
  {
   "cell_type": "code",
   "execution_count": 33,
   "id": "821969c6-18cb-4ea1-9948-103b2af7d637",
   "metadata": {
    "nbgrader": {
     "grade": false,
     "grade_id": "cell-3292e1d9665bef21",
     "locked": true,
     "schema_version": 3,
     "solution": false,
     "task": false
    }
   },
   "outputs": [
    {
     "ename": "SyntaxError",
     "evalue": "invalid syntax (449122446.py, line 1)",
     "output_type": "error",
     "traceback": [
      "\u001b[1;36m  Cell \u001b[1;32mIn[33], line 1\u001b[1;36m\u001b[0m\n\u001b[1;33m    Example:\u001b[0m\n\u001b[1;37m            ^\u001b[0m\n\u001b[1;31mSyntaxError\u001b[0m\u001b[1;31m:\u001b[0m invalid syntax\n"
     ]
    }
   ],
   "source": [
    "Example:\n",
    "flip_dict({\"CA\": \"US\", \"NY\": \"US\", \"ON\": \"CA\"}) # => {\"US\": [\"CA\", \"NY\"], \"CA\": [\"ON\"]}"
   ]
  },
  {
   "cell_type": "code",
   "execution_count": 37,
   "id": "76134d6e-5140-4da5-8cbe-1d01ea7f4ac8",
   "metadata": {},
   "outputs": [
    {
     "data": {
      "text/plain": [
       "{'unicorn': ['parth', 'michael', 'sam', 'theo'],\n",
       " 'tree': ['zheng'],\n",
       " 'dog': ['alex'],\n",
       " 'daisy': ['nick']}"
      ]
     },
     "execution_count": 37,
     "metadata": {},
     "output_type": "execute_result"
    }
   ],
   "source": [
    "### YOUR CODE HERE\n",
    "#def flip_dict(d):\n",
    "#raise NotImplementedError\n",
    "\n",
    "### BEGIN SOLUTION\n",
    "\n",
    "def flip_dict(d):\n",
    "    out = {}\n",
    "    for key, value in d.items():\n",
    "        if value not in out:\n",
    "            out[value] = []\n",
    "        out[value].append(key)\n",
    "    return out\n",
    "\n",
    "### END SOLUTION\n",
    "\n"
   ]
  },
  {
   "cell_type": "code",
   "execution_count": 40,
   "id": "1091cf99-f356-4385-a9a2-506f5460f215",
   "metadata": {},
   "outputs": [],
   "source": [
    "assert flip_dict({\"CA\": \"US\", \"NY\": \"US\", \"ON\": \"CA\"}) == {\"US\": [\"CA\", \"NY\"], \"CA\": [\"ON\"]}\n",
    "\n",
    "### BEGIN HIDDEN TESTS\n",
    "\n",
    "assert flip_dict({\n",
    "    'parth': 'unicorn',\n",
    "    'michael': 'unicorn',\n",
    "    'sam': 'unicorn',\n",
    "    'zheng': 'tree',\n",
    "    'theo': 'unicorn',\n",
    "    'alex': 'dog',\n",
    "    'nick': 'daisy'}) == {'unicorn': ['parth', 'michael', 'sam', 'theo'],\n",
    "                          'tree': ['zheng'],\n",
    "                          'dog': ['alex'],\n",
    "                          'daisy': ['nick']}\n",
    "\n",
    "### END HIDDEN TESTS"
   ]
  },
  {
   "cell_type": "code",
   "execution_count": null,
   "id": "c03a39f4-c6eb-40c7-b2bb-6385b7eae0b7",
   "metadata": {},
   "outputs": [],
   "source": []
  },
  {
   "cell_type": "code",
   "execution_count": null,
   "id": "39c3782b-f0ce-40a0-a861-2e5f519b9a8d",
   "metadata": {},
   "outputs": [],
   "source": []
  }
 ],
 "metadata": {
  "kernelspec": {
   "display_name": "Python 3 (ipykernel)",
   "language": "python",
   "name": "python3"
  },
  "language_info": {
   "codemirror_mode": {
    "name": "ipython",
    "version": 3
   },
   "file_extension": ".py",
   "mimetype": "text/x-python",
   "name": "python",
   "nbconvert_exporter": "python",
   "pygments_lexer": "ipython3",
   "version": "3.10.8"
  }
 },
 "nbformat": 4,
 "nbformat_minor": 5
}
