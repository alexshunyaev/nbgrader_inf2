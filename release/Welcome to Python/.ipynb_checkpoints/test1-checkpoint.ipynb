{
 "cells": [
  {
   "cell_type": "markdown",
   "id": "0b75ff0f-f32a-408b-aac2-0ccc26c3acf3",
   "metadata": {
    "deletable": false,
    "nbgrader": {
     "checksum": "8a55d70aab05dee30dbf5982b458eea6",
     "grade": false,
     "grade_id": "cell-d99738f4f6e6a18e",
     "locked": true,
     "schema_version": 3,
     "solution": false,
     "task": false
    },
    "slideshow": {
     "slide_type": ""
    },
    "tags": []
   },
   "source": [
    "**We're going to help the guards out and compute whether a collection of swallows can carry a collection of coconuts between them. We know that \"a five ounce bird could not carry a one pound coconut,\" so we will assume that a 5.5 ounce bird can carry a one pound coconut. More specifically, we will assume that every 5.5 ounces of bird can carry one pound of coconut.**"
   ]
  },
  {
   "cell_type": "markdown",
   "id": "f7a43eba-7ad0-49d5-b4a6-9d7c41717f74",
   "metadata": {
    "deletable": false,
    "nbgrader": {
     "checksum": "ef5f9034c5de241c19248934cd520d45",
     "grade": false,
     "grade_id": "cell-80a01c7adf220097",
     "locked": true,
     "schema_version": 3,
     "solution": false,
     "task": false
    },
    "slideshow": {
     "slide_type": ""
    },
    "tags": []
   },
   "source": [
    "Prompt the user for the number of ounces of bird \n",
    "by asking: \"How many ounces of birds are carrying the coconuts? \".\n",
    "Prompt the user for the number of pounds of coconut by asking: \n",
    "\"How many pounds of coconuts are there? \".\n",
    "Remember to convert these values to floats! \n",
    "You can assume that the user input is formatted correctly."
   ]
  },
  {
   "cell_type": "code",
   "execution_count": 1,
   "id": "259657e5-0d5c-45fa-b0b2-2a506534c11b",
   "metadata": {
    "deletable": false,
    "editable": true,
    "nbgrader": {
     "checksum": "1575656e6a4f7bbee085a3719cce0e6a",
     "grade": false,
     "grade_id": "cell-cf9726a45fb25ba2",
     "locked": false,
     "schema_version": 3,
     "solution": true,
     "task": false
    },
    "slideshow": {
     "slide_type": ""
    },
    "tags": []
   },
   "outputs": [
    {
     "name": "stdin",
     "output_type": "stream",
     "text": [
      "How many ounces of birds are carrying the coconuts? 23\n",
      "How many pounds of coconuts are there? 2\n"
     ]
    },
    {
     "data": {
      "text/plain": [
       "'Yes! Carrying the coconuts is possible.'"
      ]
     },
     "execution_count": 1,
     "metadata": {},
     "output_type": "execute_result"
    }
   ],
   "source": [
    "# YOUR CODE HERE \n",
    "# def carrying_coconuts():\n",
    "\n",
    "# YOUR CODE HERE\n",
    "\n",
    "def carrying_coconuts():\n",
    "    ounces_of_birds = float(input('How many ounces of birds are carrying the coconuts?'))\n",
    "    pounds_of_coconuts = float(input('How many pounds of coconuts are there?'))\n",
    "\n",
    "    if ounces_of_birds / pounds_of_coconuts >= 5.5:\n",
    "        return \"Yes! Carrying the coconuts is possible.\"\n",
    "    else: \n",
    "        return \"No. Carrying the coconuts is impossible.\"\n",
    "\n",
    "carrying_coconuts()"
   ]
  },
  {
   "cell_type": "markdown",
   "id": "1d97c93f-1faa-4f97-ad58-2609d01f75e5",
   "metadata": {
    "deletable": false,
    "editable": false,
    "nbgrader": {
     "checksum": "13f40004c6734d03785bad455655b767",
     "grade": false,
     "grade_id": "cell-56262726fdc23f8a",
     "locked": true,
     "schema_version": 3,
     "solution": false,
     "task": false
    },
    "slideshow": {
     "slide_type": ""
    },
    "tags": []
   },
   "source": [
    "# **Sample run**\n",
    "\n",
    "How many ounces of birds are carrying the coconuts? 5\n",
    "How many pounds of coconuts are there? 1\n",
    "No. Carrying the coconuts is impossible.\n",
    "\n",
    "\n",
    "How many ounces of birds are carrying the coconuts? 6.2\r\n",
    "How many pounds of coconuts are there? 1.1\r\n",
    "Yes! Carrying the coconuts is possie\n",
    "\n",
    "py\r\n",
    "How many ounces of birds are carrying the coconuts? 17\r\n",
    "How many pounds of coconuts are there? 3\r\n",
    "Yes! Carrying the cos is conutpossi\n",
    "ts.py\r\n",
    "How many ounces of birds are carrying the coconuts? 12.5\r\n",
    "How many pounds of coconuts are there? 2.5\r\n",
    "No. Carrying the coconuts is impossible.\n"
   ]
  },
  {
   "cell_type": "code",
   "execution_count": 2,
   "id": "cd7b6d01-8b7d-4660-9f83-5c3c3a21f0a9",
   "metadata": {
    "deletable": false,
    "editable": true,
    "nbgrader": {
     "checksum": "49d2c1084c6a2da54df45896ed119984",
     "grade": true,
     "grade_id": "cell-308136d4df2f8427",
     "locked": true,
     "points": 1,
     "schema_version": 3,
     "solution": false,
     "task": false
    },
    "slideshow": {
     "slide_type": ""
    },
    "tags": []
   },
   "outputs": [],
   "source": [
    "### START HIDDEN TESTS\n",
    "import mock\n",
    "\n",
    "\n",
    "def testing_coconuts():\n",
    "    with mock.patch('builtins.input', side_effect=['5.5', '1']):\n",
    "        assert carrying_coconuts() == 'Yes! Carrying the coconuts is possible.'\n",
    "        \n",
    "    with mock.patch('builtins.input', side_effect=['46', '25']):\n",
    "        assert carrying_coconuts() == 'No. Carrying the coconuts is impossible.'\n",
    "\n",
    "    with mock.patch('builtins.input', side_effect=['0', '1']):\n",
    "        assert carrying_coconuts() == 'No. Carrying the coconuts is impossible.'\n",
    "        \n",
    "    with mock.patch('builtins.input', side_effect=['1000', '25']):\n",
    "        assert carrying_coconuts() == 'Yes! Carrying the coconuts is possible.'\n",
    "        \n",
    "testing_coconuts()\n",
    "### END HIDDEN TESTS"
   ]
  },
  {
   "cell_type": "markdown",
   "id": "eddc7f87-8066-4737-a3da-9c772c78560c",
   "metadata": {
    "deletable": false,
    "editable": false,
    "nbgrader": {
     "checksum": "dd835214c75f06f73ac24451e4993daf",
     "grade": false,
     "grade_id": "cell-185be2e2ca444c78",
     "locked": true,
     "schema_version": 3,
     "solution": false,
     "task": false
    }
   },
   "source": [
    "Make a list of cheeses containing \"Muenster\", \"Cheddar\", and \"Red Leicester\"; these are the cheeses you have in your shop.\r\n",
    "\r\n",
    "Begin by printing the string \"Good morning. Welcome to the National Cheese Emporium!\" to the console.\r\n",
    "\r\n",
    "Next, in a loop, we will repeatedly ask the user which cheese they would like to buy. If the user enters the exact name of a cheese that you have, affirm that you have the cheese they asked for in the format \"We have {}, yessir.\". If the user does not enter the exact name of a cheese that you have, say that you don't have that cheese in the form \"I'm afraid we don't have any {}.\" and then reprompt the user to ask for another cheese.\r\n",
    "\r\n",
    "The user is also allowed to enter special questions. If the user enters either of the strings \"You... do have some cheese, don't you?\" or \"Have you in fact got any cheese here at all?\", you must reply by listing the number of cheeses that you have in the format \"We have {} cheese(s)!\", along with the name of each type of cheese you have, one on each\n",
    "\n",
    "**For anything that is not specified in the above specification, your program can behave in anyway you'd like. For example, you can customize the prompts and messages.** line."
   ]
  },
  {
   "cell_type": "code",
   "execution_count": 3,
   "id": "e5b21368-6e00-41ed-b799-a59ade3caeb1",
   "metadata": {
    "deletable": false,
    "nbgrader": {
     "checksum": "aa953e35bb6111118965f62954adb453",
     "grade": false,
     "grade_id": "cell-274ac8afe3538dae",
     "locked": false,
     "schema_version": 3,
     "solution": true,
     "task": false
    }
   },
   "outputs": [
    {
     "ename": "NotImplementedError",
     "evalue": "",
     "output_type": "error",
     "traceback": [
      "\u001b[1;31m---------------------------------------------------------------------------\u001b[0m",
      "\u001b[1;31mNotImplementedError\u001b[0m                       Traceback (most recent call last)",
      "Cell \u001b[1;32mIn[3], line 4\u001b[0m\n\u001b[0;32m      1\u001b[0m \u001b[38;5;66;03m# YOUR SOLUTION HERE\u001b[39;00m\n\u001b[0;32m      2\u001b[0m \n\u001b[0;32m      3\u001b[0m \u001b[38;5;66;03m# YOUR CODE HERE\u001b[39;00m\n\u001b[1;32m----> 4\u001b[0m \u001b[38;5;28;01mraise\u001b[39;00m \u001b[38;5;167;01mNotImplementedError\u001b[39;00m()\n\u001b[0;32m      6\u001b[0m chees()\n",
      "\u001b[1;31mNotImplementedError\u001b[0m: "
     ]
    }
   ],
   "source": [
    "# YOUR SOLUTION HERE\n",
    "\n",
    "# YOUR CODE HERE\n",
    "raise NotImplementedError()\n",
    "\n",
    "chees()"
   ]
  },
  {
   "cell_type": "markdown",
   "id": "e8e7fe79-b67a-4c6d-a853-0a68a2e35da4",
   "metadata": {
    "deletable": false,
    "editable": false,
    "nbgrader": {
     "checksum": "1274c2916373cb5e588f95c183ebf5f4",
     "grade": false,
     "grade_id": "cell-cbc2bb55cea99a2a",
     "locked": true,
     "schema_version": 3,
     "solution": false,
     "task": false
    }
   },
   "source": [
    "**Sample Run**\n",
    "\n",
    "Good morning. Welcome to the National Cheese Emporium!\n",
    "What would you like? Red Windsor\n",
    "I'm afraid we don't have any Red Windsor.\n",
    "What would you like? Lancashire\n",
    "I'm afraid we don't have any Lancashire.\n",
    "What would you like? cheddar\n",
    "I'm afraid we don't have any cheddar.\n",
    "What would you like? Cheddar\n",
    "We have Cheddar, yessir.\n",
    "\n",
    "Good morning. Welcome to the National Cheese Emporium!\n",
    "What would you like? Red Windsor\n",
    "I'm afraid we don't have any Red Windsor.\n",
    "What would you like? cHeDdAr\n",
    "I'm afraid we don't have any cHeDdAr.\n",
    "What would you like? Have you in fact got any cheese here at all?\n",
    "We have 3 cheese(s)!\n",
    "Muenster\n",
    "Cheddar\n",
    "Red Leicester\n",
    "What would you like? exit\n",
    "I'm afraid we don't have any exit.\n",
    "What would you like? LET ME OUT\n",
    "I'm afraid we don't have any LET ME OUT.\n",
    "What would you like? Cheddar\n",
    "We have Cheddar, yessir."
   ]
  },
  {
   "cell_type": "code",
   "execution_count": null,
   "id": "293b0c22-7a4a-4722-98af-1019364ac651",
   "metadata": {
    "deletable": false,
    "editable": false,
    "nbgrader": {
     "checksum": "d351036f5eb4c869854d8b13f081769e",
     "grade": true,
     "grade_id": "cell-5057de5b041f6f13",
     "locked": true,
     "points": 0,
     "schema_version": 3,
     "solution": false,
     "task": false
    }
   },
   "outputs": [],
   "source": []
  },
  {
   "cell_type": "code",
   "execution_count": null,
   "id": "ad829da7-fa65-4280-ab12-5ce3ebf6de52",
   "metadata": {},
   "outputs": [],
   "source": []
  },
  {
   "cell_type": "code",
   "execution_count": null,
   "id": "0a878021-8bba-48e5-9b2f-fd3433c1c82e",
   "metadata": {},
   "outputs": [],
   "source": []
  },
  {
   "cell_type": "code",
   "execution_count": null,
   "id": "bf626ad9-38c2-44f6-991e-850dd953b69b",
   "metadata": {},
   "outputs": [],
   "source": []
  },
  {
   "cell_type": "code",
   "execution_count": null,
   "id": "7130618c-2fe8-4f23-aec6-50d3a9c7d2c3",
   "metadata": {},
   "outputs": [],
   "source": []
  }
 ],
 "metadata": {
  "kernelspec": {
   "display_name": "Python 3 (ipykernel)",
   "language": "python",
   "name": "python3"
  },
  "language_info": {
   "codemirror_mode": {
    "name": "ipython",
    "version": 3
   },
   "file_extension": ".py",
   "mimetype": "text/x-python",
   "name": "python",
   "nbconvert_exporter": "python",
   "pygments_lexer": "ipython3",
   "version": "3.10.8"
  }
 },
 "nbformat": 4,
 "nbformat_minor": 5
}
